{
  "nbformat": 4,
  "nbformat_minor": 0,
  "metadata": {
    "colab": {
      "provenance": []
    },
    "kernelspec": {
      "name": "python3",
      "display_name": "Python 3"
    },
    "language_info": {
      "name": "python"
    }
  },
  "cells": [
    {
      "cell_type": "markdown",
      "source": [
        "# **Diabetes Classification**"
      ],
      "metadata": {
        "id": "H5URi95VNn23"
      }
    },
    {
      "cell_type": "code",
      "source": [
        "# install\n",
        "!pip install Pyspark"
      ],
      "metadata": {
        "id": "gwe9FeysidtE",
        "colab": {
          "base_uri": "https://localhost:8080/"
        },
        "outputId": "4bf4f267-7054-4e97-eef0-57dc3542199e"
      },
      "execution_count": 1,
      "outputs": [
        {
          "output_type": "stream",
          "name": "stdout",
          "text": [
            "Looking in indexes: https://pypi.org/simple, https://us-python.pkg.dev/colab-wheels/public/simple/\n",
            "Requirement already satisfied: Pyspark in /usr/local/lib/python3.8/dist-packages (3.3.2)\n",
            "Requirement already satisfied: py4j==0.10.9.5 in /usr/local/lib/python3.8/dist-packages (from Pyspark) (0.10.9.5)\n"
          ]
        }
      ]
    },
    {
      "cell_type": "code",
      "source": [
        "# start spark session\n",
        "from pyspark.sql import SparkSession"
      ],
      "metadata": {
        "id": "J5wjW5Ud6McP"
      },
      "execution_count": 2,
      "outputs": []
    },
    {
      "cell_type": "code",
      "source": [
        "spark=SparkSession.builder.getOrCreate()"
      ],
      "metadata": {
        "id": "CELhWhbn6McP"
      },
      "execution_count": 3,
      "outputs": []
    },
    {
      "cell_type": "code",
      "source": [
        "spark"
      ],
      "metadata": {
        "colab": {
          "base_uri": "https://localhost:8080/",
          "height": 219
        },
        "outputId": "4a1740d0-3cd7-4d38-ff98-f093e627c2e1",
        "id": "bj7IILDV6McP"
      },
      "execution_count": 4,
      "outputs": [
        {
          "output_type": "execute_result",
          "data": {
            "text/plain": [
              "<pyspark.sql.session.SparkSession at 0x7f62d85c5cd0>"
            ],
            "text/html": [
              "\n",
              "            <div>\n",
              "                <p><b>SparkSession - in-memory</b></p>\n",
              "                \n",
              "        <div>\n",
              "            <p><b>SparkContext</b></p>\n",
              "\n",
              "            <p><a href=\"http://6adb737adc41:4040\">Spark UI</a></p>\n",
              "\n",
              "            <dl>\n",
              "              <dt>Version</dt>\n",
              "                <dd><code>v3.3.2</code></dd>\n",
              "              <dt>Master</dt>\n",
              "                <dd><code>local[*]</code></dd>\n",
              "              <dt>AppName</dt>\n",
              "                <dd><code>pyspark-shell</code></dd>\n",
              "            </dl>\n",
              "        </div>\n",
              "        \n",
              "            </div>\n",
              "        "
            ]
          },
          "metadata": {},
          "execution_count": 4
        }
      ]
    },
    {
      "cell_type": "code",
      "source": [
        "# read external data with url\n",
        "import pandas as pd\n",
        "diabetes = pd.read_csv('https://github.com/YBIFoundation/Dataset/raw/main/Diabetes.csv')\n",
        "diabetes = spark.createDataFrame(diabetes)"
      ],
      "metadata": {
        "id": "xcsHrgdw6glu"
      },
      "execution_count": 5,
      "outputs": []
    },
    {
      "cell_type": "code",
      "source": [
        "diabetes.show()"
      ],
      "metadata": {
        "colab": {
          "base_uri": "https://localhost:8080/"
        },
        "outputId": "7aaa93fd-f0c6-44a8-eba0-024fedec7e21",
        "id": "BRXO_exO6glv"
      },
      "execution_count": 6,
      "outputs": [
        {
          "output_type": "stream",
          "name": "stdout",
          "text": [
            "+-----------+-------+---------+-------+-------+----+------------------+---+--------+\n",
            "|pregnancies|glucose|diastolic|triceps|insulin| bmi|               dpf|age|diabetes|\n",
            "+-----------+-------+---------+-------+-------+----+------------------+---+--------+\n",
            "|          6|    148|       72|     35|      0|33.6|             0.627| 50|       1|\n",
            "|          1|     85|       66|     29|      0|26.6|             0.351| 31|       0|\n",
            "|          8|    183|       64|      0|      0|23.3|             0.672| 32|       1|\n",
            "|          1|     89|       66|     23|     94|28.1|0.1669999999999999| 21|       0|\n",
            "|          0|    137|       40|     35|    168|43.1|2.2880000000000003| 33|       1|\n",
            "|          5|    116|       74|      0|      0|25.6|             0.201| 30|       0|\n",
            "|          3|     78|       50|     32|     88|31.0|             0.248| 26|       1|\n",
            "|         10|    115|        0|      0|      0|35.3|             0.134| 29|       0|\n",
            "|          2|    197|       70|     45|    543|30.5|             0.158| 53|       1|\n",
            "|          8|    125|       96|      0|      0| 0.0|0.2319999999999999| 54|       1|\n",
            "|          4|    110|       92|      0|      0|37.6|             0.191| 30|       0|\n",
            "|         10|    168|       74|      0|      0|38.0|             0.537| 34|       1|\n",
            "|         10|    139|       80|      0|      0|27.1|1.4409999999999998| 57|       0|\n",
            "|          1|    189|       60|     23|    846|30.1|0.3979999999999999| 59|       1|\n",
            "|          5|    166|       72|     19|    175|25.8|0.5870000000000001| 51|       1|\n",
            "|          7|    100|        0|      0|      0|30.0|             0.484| 32|       1|\n",
            "|          0|    118|       84|     47|    230|45.8|             0.551| 31|       1|\n",
            "|          7|    107|       74|      0|      0|29.6|             0.254| 31|       1|\n",
            "|          1|    103|       30|     38|     83|43.3|             0.183| 33|       0|\n",
            "|          1|    115|       70|     30|     96|34.6|             0.529| 32|       1|\n",
            "+-----------+-------+---------+-------+-------+----+------------------+---+--------+\n",
            "only showing top 20 rows\n",
            "\n"
          ]
        }
      ]
    },
    {
      "cell_type": "code",
      "source": [
        "diabetes.printSchema()"
      ],
      "metadata": {
        "colab": {
          "base_uri": "https://localhost:8080/"
        },
        "outputId": "9210f85f-9d33-4913-ed70-79dfc49db936",
        "id": "gFDhxcnB6glv"
      },
      "execution_count": 7,
      "outputs": [
        {
          "output_type": "stream",
          "name": "stdout",
          "text": [
            "root\n",
            " |-- pregnancies: long (nullable = true)\n",
            " |-- glucose: long (nullable = true)\n",
            " |-- diastolic: long (nullable = true)\n",
            " |-- triceps: long (nullable = true)\n",
            " |-- insulin: long (nullable = true)\n",
            " |-- bmi: double (nullable = true)\n",
            " |-- dpf: double (nullable = true)\n",
            " |-- age: long (nullable = true)\n",
            " |-- diabetes: long (nullable = true)\n",
            "\n"
          ]
        }
      ]
    },
    {
      "cell_type": "code",
      "source": [
        "diabetes.columns"
      ],
      "metadata": {
        "colab": {
          "base_uri": "https://localhost:8080/"
        },
        "outputId": "b4e52880-16a5-4289-849e-c8eca7bcc56f",
        "id": "9TorzEMY6glw"
      },
      "execution_count": 8,
      "outputs": [
        {
          "output_type": "execute_result",
          "data": {
            "text/plain": [
              "['pregnancies',\n",
              " 'glucose',\n",
              " 'diastolic',\n",
              " 'triceps',\n",
              " 'insulin',\n",
              " 'bmi',\n",
              " 'dpf',\n",
              " 'age',\n",
              " 'diabetes']"
            ]
          },
          "metadata": {},
          "execution_count": 8
        }
      ]
    },
    {
      "cell_type": "code",
      "source": [
        "from pyspark.ml.feature import VectorAssembler "
      ],
      "metadata": {
        "id": "wZjuNOGL6glw"
      },
      "execution_count": 9,
      "outputs": []
    },
    {
      "cell_type": "code",
      "source": [
        "featureassembler= VectorAssembler(inputCols=['pregnancies',\n",
        " 'glucose',\n",
        " 'diastolic',\n",
        " 'triceps',\n",
        " 'insulin',\n",
        " 'bmi',\n",
        " 'dpf',\n",
        " 'age'], outputCol='Features')"
      ],
      "metadata": {
        "id": "ooSm4UaF6glw"
      },
      "execution_count": 10,
      "outputs": []
    },
    {
      "cell_type": "code",
      "source": [
        "output = featureassembler.transform(diabetes)"
      ],
      "metadata": {
        "id": "jJt4WucO6glw"
      },
      "execution_count": 11,
      "outputs": []
    },
    {
      "cell_type": "code",
      "source": [
        "output.show()"
      ],
      "metadata": {
        "colab": {
          "base_uri": "https://localhost:8080/"
        },
        "outputId": "5bb43afc-0e34-427f-e556-45dad81b5d22",
        "id": "jY_eaYl_6glw"
      },
      "execution_count": 12,
      "outputs": [
        {
          "output_type": "stream",
          "name": "stdout",
          "text": [
            "+-----------+-------+---------+-------+-------+----+------------------+---+--------+--------------------+\n",
            "|pregnancies|glucose|diastolic|triceps|insulin| bmi|               dpf|age|diabetes|            Features|\n",
            "+-----------+-------+---------+-------+-------+----+------------------+---+--------+--------------------+\n",
            "|          6|    148|       72|     35|      0|33.6|             0.627| 50|       1|[6.0,148.0,72.0,3...|\n",
            "|          1|     85|       66|     29|      0|26.6|             0.351| 31|       0|[1.0,85.0,66.0,29...|\n",
            "|          8|    183|       64|      0|      0|23.3|             0.672| 32|       1|[8.0,183.0,64.0,0...|\n",
            "|          1|     89|       66|     23|     94|28.1|0.1669999999999999| 21|       0|[1.0,89.0,66.0,23...|\n",
            "|          0|    137|       40|     35|    168|43.1|2.2880000000000003| 33|       1|[0.0,137.0,40.0,3...|\n",
            "|          5|    116|       74|      0|      0|25.6|             0.201| 30|       0|[5.0,116.0,74.0,0...|\n",
            "|          3|     78|       50|     32|     88|31.0|             0.248| 26|       1|[3.0,78.0,50.0,32...|\n",
            "|         10|    115|        0|      0|      0|35.3|             0.134| 29|       0|[10.0,115.0,0.0,0...|\n",
            "|          2|    197|       70|     45|    543|30.5|             0.158| 53|       1|[2.0,197.0,70.0,4...|\n",
            "|          8|    125|       96|      0|      0| 0.0|0.2319999999999999| 54|       1|[8.0,125.0,96.0,0...|\n",
            "|          4|    110|       92|      0|      0|37.6|             0.191| 30|       0|[4.0,110.0,92.0,0...|\n",
            "|         10|    168|       74|      0|      0|38.0|             0.537| 34|       1|[10.0,168.0,74.0,...|\n",
            "|         10|    139|       80|      0|      0|27.1|1.4409999999999998| 57|       0|[10.0,139.0,80.0,...|\n",
            "|          1|    189|       60|     23|    846|30.1|0.3979999999999999| 59|       1|[1.0,189.0,60.0,2...|\n",
            "|          5|    166|       72|     19|    175|25.8|0.5870000000000001| 51|       1|[5.0,166.0,72.0,1...|\n",
            "|          7|    100|        0|      0|      0|30.0|             0.484| 32|       1|[7.0,100.0,0.0,0....|\n",
            "|          0|    118|       84|     47|    230|45.8|             0.551| 31|       1|[0.0,118.0,84.0,4...|\n",
            "|          7|    107|       74|      0|      0|29.6|             0.254| 31|       1|[7.0,107.0,74.0,0...|\n",
            "|          1|    103|       30|     38|     83|43.3|             0.183| 33|       0|[1.0,103.0,30.0,3...|\n",
            "|          1|    115|       70|     30|     96|34.6|             0.529| 32|       1|[1.0,115.0,70.0,3...|\n",
            "+-----------+-------+---------+-------+-------+----+------------------+---+--------+--------------------+\n",
            "only showing top 20 rows\n",
            "\n"
          ]
        }
      ]
    },
    {
      "cell_type": "code",
      "source": [
        "output.select('Features').show()"
      ],
      "metadata": {
        "colab": {
          "base_uri": "https://localhost:8080/"
        },
        "outputId": "f742002c-dcc2-48e4-800e-327c276aea88",
        "id": "-uLGZ7pQ6glx"
      },
      "execution_count": 13,
      "outputs": [
        {
          "output_type": "stream",
          "name": "stdout",
          "text": [
            "+--------------------+\n",
            "|            Features|\n",
            "+--------------------+\n",
            "|[6.0,148.0,72.0,3...|\n",
            "|[1.0,85.0,66.0,29...|\n",
            "|[8.0,183.0,64.0,0...|\n",
            "|[1.0,89.0,66.0,23...|\n",
            "|[0.0,137.0,40.0,3...|\n",
            "|[5.0,116.0,74.0,0...|\n",
            "|[3.0,78.0,50.0,32...|\n",
            "|[10.0,115.0,0.0,0...|\n",
            "|[2.0,197.0,70.0,4...|\n",
            "|[8.0,125.0,96.0,0...|\n",
            "|[4.0,110.0,92.0,0...|\n",
            "|[10.0,168.0,74.0,...|\n",
            "|[10.0,139.0,80.0,...|\n",
            "|[1.0,189.0,60.0,2...|\n",
            "|[5.0,166.0,72.0,1...|\n",
            "|[7.0,100.0,0.0,0....|\n",
            "|[0.0,118.0,84.0,4...|\n",
            "|[7.0,107.0,74.0,0...|\n",
            "|[1.0,103.0,30.0,3...|\n",
            "|[1.0,115.0,70.0,3...|\n",
            "+--------------------+\n",
            "only showing top 20 rows\n",
            "\n"
          ]
        }
      ]
    },
    {
      "cell_type": "code",
      "source": [
        "modeldata=output.select('Features','diabetes')"
      ],
      "metadata": {
        "id": "08O1r4kX6glx"
      },
      "execution_count": 14,
      "outputs": []
    },
    {
      "cell_type": "code",
      "source": [
        "modeldata.show()"
      ],
      "metadata": {
        "colab": {
          "base_uri": "https://localhost:8080/"
        },
        "outputId": "0879b552-1329-4ddd-e5e0-edc8d55094c2",
        "id": "DyyYW9Ml6glx"
      },
      "execution_count": 15,
      "outputs": [
        {
          "output_type": "stream",
          "name": "stdout",
          "text": [
            "+--------------------+--------+\n",
            "|            Features|diabetes|\n",
            "+--------------------+--------+\n",
            "|[6.0,148.0,72.0,3...|       1|\n",
            "|[1.0,85.0,66.0,29...|       0|\n",
            "|[8.0,183.0,64.0,0...|       1|\n",
            "|[1.0,89.0,66.0,23...|       0|\n",
            "|[0.0,137.0,40.0,3...|       1|\n",
            "|[5.0,116.0,74.0,0...|       0|\n",
            "|[3.0,78.0,50.0,32...|       1|\n",
            "|[10.0,115.0,0.0,0...|       0|\n",
            "|[2.0,197.0,70.0,4...|       1|\n",
            "|[8.0,125.0,96.0,0...|       1|\n",
            "|[4.0,110.0,92.0,0...|       0|\n",
            "|[10.0,168.0,74.0,...|       1|\n",
            "|[10.0,139.0,80.0,...|       0|\n",
            "|[1.0,189.0,60.0,2...|       1|\n",
            "|[5.0,166.0,72.0,1...|       1|\n",
            "|[7.0,100.0,0.0,0....|       1|\n",
            "|[0.0,118.0,84.0,4...|       1|\n",
            "|[7.0,107.0,74.0,0...|       1|\n",
            "|[1.0,103.0,30.0,3...|       0|\n",
            "|[1.0,115.0,70.0,3...|       1|\n",
            "+--------------------+--------+\n",
            "only showing top 20 rows\n",
            "\n"
          ]
        }
      ]
    },
    {
      "cell_type": "code",
      "source": [
        "# split data\n",
        "train_data,test_data=modeldata.randomSplit([0.8,0.2])"
      ],
      "metadata": {
        "id": "-KbpnDWC6glx"
      },
      "execution_count": 16,
      "outputs": []
    },
    {
      "cell_type": "code",
      "source": [
        "train_data.show()"
      ],
      "metadata": {
        "colab": {
          "base_uri": "https://localhost:8080/"
        },
        "outputId": "d6e60c1a-afb3-476a-ed71-1057005d2083",
        "id": "tZcfp4R26glx"
      },
      "execution_count": 17,
      "outputs": [
        {
          "output_type": "stream",
          "name": "stdout",
          "text": [
            "+--------------------+--------+\n",
            "|            Features|diabetes|\n",
            "+--------------------+--------+\n",
            "|(8,[0,1,6,7],[2.0...|       0|\n",
            "|(8,[0,1,6,7],[2.0...|       0|\n",
            "|(8,[0,1,6,7],[7.0...|       0|\n",
            "|(8,[1,5,6,7],[117...|       0|\n",
            "|(8,[1,5,6,7],[167...|       1|\n",
            "|[0.0,78.0,88.0,29...|       0|\n",
            "|[0.0,84.0,64.0,22...|       0|\n",
            "|[0.0,86.0,68.0,32...|       0|\n",
            "|[0.0,93.0,60.0,25...|       0|\n",
            "|[0.0,98.0,82.0,15...|       0|\n",
            "|[0.0,100.0,88.0,6...|       0|\n",
            "|[0.0,101.0,64.0,1...|       0|\n",
            "|[0.0,101.0,65.0,2...|       0|\n",
            "|[0.0,101.0,76.0,0...|       0|\n",
            "|[0.0,102.0,52.0,0...|       0|\n",
            "|[0.0,102.0,75.0,2...|       0|\n",
            "|[0.0,104.0,64.0,2...|       0|\n",
            "|[0.0,104.0,76.0,0...|       0|\n",
            "|[0.0,105.0,64.0,4...|       0|\n",
            "|[0.0,105.0,68.0,2...|       0|\n",
            "+--------------------+--------+\n",
            "only showing top 20 rows\n",
            "\n"
          ]
        }
      ]
    },
    {
      "cell_type": "code",
      "source": [
        "# logistic regression model\n",
        "from pyspark.ml.classification import LogisticRegression"
      ],
      "metadata": {
        "id": "u-RUxJVW6glx"
      },
      "execution_count": 18,
      "outputs": []
    },
    {
      "cell_type": "code",
      "source": [
        "logit = LogisticRegression(featuresCol='Features', labelCol='diabetes')"
      ],
      "metadata": {
        "id": "aqAG3-Mc6glx"
      },
      "execution_count": 19,
      "outputs": []
    },
    {
      "cell_type": "code",
      "source": [
        "logit=logit.fit(train_data)"
      ],
      "metadata": {
        "id": "b5MoY_w46gly"
      },
      "execution_count": 20,
      "outputs": []
    },
    {
      "cell_type": "code",
      "source": [
        "logit.coefficients"
      ],
      "metadata": {
        "colab": {
          "base_uri": "https://localhost:8080/"
        },
        "outputId": "b2d361ef-f8bc-474e-e36d-3b9c2ad01400",
        "id": "g6UjswBV6gly"
      },
      "execution_count": 21,
      "outputs": [
        {
          "output_type": "execute_result",
          "data": {
            "text/plain": [
              "DenseVector([0.1046, 0.034, -0.0138, 0.0022, -0.0015, 0.094, 0.4844, 0.0192])"
            ]
          },
          "metadata": {},
          "execution_count": 21
        }
      ]
    },
    {
      "cell_type": "code",
      "source": [
        "# prediction\n",
        "y_pred = logit.transform(test_data)"
      ],
      "metadata": {
        "id": "yyk6Ost36gly"
      },
      "execution_count": 22,
      "outputs": []
    },
    {
      "cell_type": "code",
      "source": [
        "y_pred.show()"
      ],
      "metadata": {
        "colab": {
          "base_uri": "https://localhost:8080/"
        },
        "outputId": "df6e822d-f745-4548-b1c0-496b5de3d77c",
        "id": "TLNLJhI16gly"
      },
      "execution_count": 23,
      "outputs": [
        {
          "output_type": "stream",
          "name": "stdout",
          "text": [
            "+--------------------+--------+--------------------+--------------------+----------+\n",
            "|            Features|diabetes|       rawPrediction|         probability|prediction|\n",
            "+--------------------+--------+--------------------+--------------------+----------+\n",
            "|(8,[1,5,6,7],[131...|       1|[-0.8775347293445...|[0.29368890390497...|       1.0|\n",
            "|(8,[1,5,6,7],[138...|       1|[-0.7687875768549...|[0.31674143607486...|       1.0|\n",
            "|[0.0,93.0,100.0,3...|       0|[1.26893485151084...|[0.78056035753217...|       0.0|\n",
            "|[0.0,95.0,85.0,25...|       1|[2.11955373104362...|[0.89278922164102...|       0.0|\n",
            "|[0.0,100.0,70.0,2...|       0|[2.26989513285913...|[0.90635288729852...|       0.0|\n",
            "|[0.0,108.0,68.0,2...|       0|[1.93211044859029...|[0.87348283065706...|       0.0|\n",
            "|[0.0,125.0,96.0,0...|       0|[2.70152230030653...|[0.93711641166328...|       0.0|\n",
            "|[0.0,128.0,68.0,1...|       1|[1.06910774034432...|[0.74442719568390...|       0.0|\n",
            "|[0.0,129.0,80.0,0...|       0|[1.15831511662281...|[0.76102642796111...|       0.0|\n",
            "|[0.0,137.0,68.0,1...|       0|[1.94238039916257...|[0.87461342231089...|       0.0|\n",
            "|[0.0,161.0,50.0,0...|       0|[0.05333569096849...|[0.51333076272806...|       0.0|\n",
            "|[0.0,180.0,66.0,3...|       1|[-2.3699760452547...|[0.08549101225326...|       1.0|\n",
            "|[1.0,0.0,68.0,35....|       0|[5.41374111456726...|[0.99556481594372...|       0.0|\n",
            "|[1.0,79.0,75.0,30...|       0|[2.82961403069979...|[0.94425528919668...|       0.0|\n",
            "|[1.0,79.0,80.0,25...|       0|[3.49598708328298...|[0.97057337371316...|       0.0|\n",
            "|[1.0,87.0,60.0,37...|       0|[1.90526970300643...|[0.87048679031106...|       0.0|\n",
            "|[1.0,97.0,66.0,15...|       0|[3.12157520846163...|[0.95777398024479...|       0.0|\n",
            "|[1.0,101.0,50.0,1...|       0|[2.41575184744095...|[0.91802060099162...|       0.0|\n",
            "|[1.0,115.0,70.0,3...|       1|[1.18017560670329...|[0.76497937684728...|       0.0|\n",
            "|[1.0,119.0,86.0,3...|       1|[0.32310866064628...|[0.58008166918690...|       0.0|\n",
            "+--------------------+--------+--------------------+--------------------+----------+\n",
            "only showing top 20 rows\n",
            "\n"
          ]
        }
      ]
    },
    {
      "cell_type": "code",
      "source": [
        "# confusion matrix\n",
        "y_pred.groupBy('diabetes', 'prediction').count().show()"
      ],
      "metadata": {
        "colab": {
          "base_uri": "https://localhost:8080/"
        },
        "id": "aP0v4QDgrP8Q",
        "outputId": "03b0af9a-f4b4-4bf8-e76c-00173a59cbd8"
      },
      "execution_count": 24,
      "outputs": [
        {
          "output_type": "stream",
          "name": "stdout",
          "text": [
            "+--------+----------+-----+\n",
            "|diabetes|prediction|count|\n",
            "+--------+----------+-----+\n",
            "|       1|       0.0|   29|\n",
            "|       0|       1.0|   11|\n",
            "|       0|       0.0|   91|\n",
            "|       1|       1.0|   34|\n",
            "+--------+----------+-----+\n",
            "\n"
          ]
        }
      ]
    },
    {
      "cell_type": "markdown",
      "source": [
        "(f1|accuracy|weightedPrecision|weightedRecall|weightedTruePositiveRate| weightedFalsePositiveRate|weightedFMeasure|truePositiveRateByLabel| falsePositiveRateByLabel|precisionByLabel|recallByLabel|fMeasureByLabel| logLoss|hammingLoss)"
      ],
      "metadata": {
        "id": "UBMExg8BDIi2"
      }
    },
    {
      "cell_type": "code",
      "source": [
        "# evaluation\n",
        "from pyspark.ml.evaluation import MulticlassClassificationEvaluator"
      ],
      "metadata": {
        "id": "1z9f4RbN_2NU"
      },
      "execution_count": 25,
      "outputs": []
    },
    {
      "cell_type": "code",
      "source": [
        "evaluator = MulticlassClassificationEvaluator(\n",
        "    labelCol='diabetes', predictionCol='prediction', \n",
        "    metricName='weightedPrecision')"
      ],
      "metadata": {
        "id": "pAsvoron_3J9"
      },
      "execution_count": 26,
      "outputs": []
    },
    {
      "cell_type": "code",
      "source": [
        "evaluator.evaluate(y_pred)"
      ],
      "metadata": {
        "colab": {
          "base_uri": "https://localhost:8080/"
        },
        "id": "HNbJEY7A_3NG",
        "outputId": "d1a4ce88-c6cc-45a5-e34c-48800319ed0f"
      },
      "execution_count": 27,
      "outputs": [
        {
          "output_type": "execute_result",
          "data": {
            "text/plain": [
              "0.7572727272727273"
            ]
          },
          "metadata": {},
          "execution_count": 27
        }
      ]
    },
    {
      "cell_type": "code",
      "source": [
        "# close connection to spark\n",
        "spark.stop()"
      ],
      "metadata": {
        "id": "T5fn3z4r6gly"
      },
      "execution_count": 28,
      "outputs": []
    }
  ]
}