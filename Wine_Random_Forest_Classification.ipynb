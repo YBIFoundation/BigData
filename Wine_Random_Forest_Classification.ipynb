{
  "nbformat": 4,
  "nbformat_minor": 0,
  "metadata": {
    "colab": {
      "provenance": []
    },
    "kernelspec": {
      "name": "python3",
      "display_name": "Python 3"
    },
    "language_info": {
      "name": "python"
    }
  },
  "cells": [
    {
      "cell_type": "markdown",
      "source": [
        "# **Wine Random Forest Classification**"
      ],
      "metadata": {
        "id": "H5URi95VNn23"
      }
    },
    {
      "cell_type": "code",
      "source": [
        "# install\n",
        "!pip install Pyspark"
      ],
      "metadata": {
        "id": "gwe9FeysidtE",
        "colab": {
          "base_uri": "https://localhost:8080/"
        },
        "outputId": "532912f5-56d8-4488-aca1-70e84f627ffa"
      },
      "execution_count": 1,
      "outputs": [
        {
          "output_type": "stream",
          "name": "stdout",
          "text": [
            "Looking in indexes: https://pypi.org/simple, https://us-python.pkg.dev/colab-wheels/public/simple/\n",
            "Requirement already satisfied: Pyspark in /usr/local/lib/python3.8/dist-packages (3.3.2)\n",
            "Requirement already satisfied: py4j==0.10.9.5 in /usr/local/lib/python3.8/dist-packages (from Pyspark) (0.10.9.5)\n"
          ]
        }
      ]
    },
    {
      "cell_type": "code",
      "source": [
        "# start spark session\n",
        "from pyspark.sql import SparkSession"
      ],
      "metadata": {
        "id": "J5wjW5Ud6McP"
      },
      "execution_count": 2,
      "outputs": []
    },
    {
      "cell_type": "code",
      "source": [
        "spark=SparkSession.builder.getOrCreate()"
      ],
      "metadata": {
        "id": "CELhWhbn6McP"
      },
      "execution_count": 3,
      "outputs": []
    },
    {
      "cell_type": "code",
      "source": [
        "spark"
      ],
      "metadata": {
        "colab": {
          "base_uri": "https://localhost:8080/",
          "height": 219
        },
        "outputId": "ba6a2775-2d51-4520-bc65-f13d651a6114",
        "id": "bj7IILDV6McP"
      },
      "execution_count": 4,
      "outputs": [
        {
          "output_type": "execute_result",
          "data": {
            "text/plain": [
              "<pyspark.sql.session.SparkSession at 0x7fab7e64ad00>"
            ],
            "text/html": [
              "\n",
              "            <div>\n",
              "                <p><b>SparkSession - in-memory</b></p>\n",
              "                \n",
              "        <div>\n",
              "            <p><b>SparkContext</b></p>\n",
              "\n",
              "            <p><a href=\"http://6adb737adc41:4040\">Spark UI</a></p>\n",
              "\n",
              "            <dl>\n",
              "              <dt>Version</dt>\n",
              "                <dd><code>v3.3.2</code></dd>\n",
              "              <dt>Master</dt>\n",
              "                <dd><code>local[*]</code></dd>\n",
              "              <dt>AppName</dt>\n",
              "                <dd><code>pyspark-shell</code></dd>\n",
              "            </dl>\n",
              "        </div>\n",
              "        \n",
              "            </div>\n",
              "        "
            ]
          },
          "metadata": {},
          "execution_count": 4
        }
      ]
    },
    {
      "cell_type": "code",
      "source": [
        "# read sklearn inbuilt data\n",
        "import pandas as pd\n",
        "import numpy as np\n",
        "from sklearn.datasets import load_wine\n",
        "wine = load_wine(as_frame=True)\n",
        "wine = wine.frame\n",
        "wine = spark.createDataFrame(wine)"
      ],
      "metadata": {
        "id": "xcsHrgdw6glu"
      },
      "execution_count": 5,
      "outputs": []
    },
    {
      "cell_type": "code",
      "source": [
        "wine.show()"
      ],
      "metadata": {
        "colab": {
          "base_uri": "https://localhost:8080/"
        },
        "outputId": "99a04424-6d96-4143-d3e5-d7a64a2a9f29",
        "id": "BRXO_exO6glv"
      },
      "execution_count": 6,
      "outputs": [
        {
          "output_type": "stream",
          "name": "stdout",
          "text": [
            "+-------+----------+----+-----------------+---------+-------------+----------+--------------------+---------------+---------------+----+----------------------------+-------+------+\n",
            "|alcohol|malic_acid| ash|alcalinity_of_ash|magnesium|total_phenols|flavanoids|nonflavanoid_phenols|proanthocyanins|color_intensity| hue|od280/od315_of_diluted_wines|proline|target|\n",
            "+-------+----------+----+-----------------+---------+-------------+----------+--------------------+---------------+---------------+----+----------------------------+-------+------+\n",
            "|  14.23|      1.71|2.43|             15.6|    127.0|          2.8|      3.06|                0.28|           2.29|           5.64|1.04|                        3.92| 1065.0|     0|\n",
            "|   13.2|      1.78|2.14|             11.2|    100.0|         2.65|      2.76|                0.26|           1.28|           4.38|1.05|                         3.4| 1050.0|     0|\n",
            "|  13.16|      2.36|2.67|             18.6|    101.0|          2.8|      3.24|                 0.3|           2.81|           5.68|1.03|                        3.17| 1185.0|     0|\n",
            "|  14.37|      1.95| 2.5|             16.8|    113.0|         3.85|      3.49|                0.24|           2.18|            7.8|0.86|                        3.45| 1480.0|     0|\n",
            "|  13.24|      2.59|2.87|             21.0|    118.0|          2.8|      2.69|                0.39|           1.82|           4.32|1.04|                        2.93|  735.0|     0|\n",
            "|   14.2|      1.76|2.45|             15.2|    112.0|         3.27|      3.39|                0.34|           1.97|           6.75|1.05|                        2.85| 1450.0|     0|\n",
            "|  14.39|      1.87|2.45|             14.6|     96.0|          2.5|      2.52|                 0.3|           1.98|           5.25|1.02|                        3.58| 1290.0|     0|\n",
            "|  14.06|      2.15|2.61|             17.6|    121.0|          2.6|      2.51|                0.31|           1.25|           5.05|1.06|                        3.58| 1295.0|     0|\n",
            "|  14.83|      1.64|2.17|             14.0|     97.0|          2.8|      2.98|                0.29|           1.98|            5.2|1.08|                        2.85| 1045.0|     0|\n",
            "|  13.86|      1.35|2.27|             16.0|     98.0|         2.98|      3.15|                0.22|           1.85|           7.22|1.01|                        3.55| 1045.0|     0|\n",
            "|   14.1|      2.16| 2.3|             18.0|    105.0|         2.95|      3.32|                0.22|           2.38|           5.75|1.25|                        3.17| 1510.0|     0|\n",
            "|  14.12|      1.48|2.32|             16.8|     95.0|          2.2|      2.43|                0.26|           1.57|            5.0|1.17|                        2.82| 1280.0|     0|\n",
            "|  13.75|      1.73|2.41|             16.0|     89.0|          2.6|      2.76|                0.29|           1.81|            5.6|1.15|                         2.9| 1320.0|     0|\n",
            "|  14.75|      1.73|2.39|             11.4|     91.0|          3.1|      3.69|                0.43|           2.81|            5.4|1.25|                        2.73| 1150.0|     0|\n",
            "|  14.38|      1.87|2.38|             12.0|    102.0|          3.3|      3.64|                0.29|           2.96|            7.5| 1.2|                         3.0| 1547.0|     0|\n",
            "|  13.63|      1.81| 2.7|             17.2|    112.0|         2.85|      2.91|                 0.3|           1.46|            7.3|1.28|                        2.88| 1310.0|     0|\n",
            "|   14.3|      1.92|2.72|             20.0|    120.0|          2.8|      3.14|                0.33|           1.97|            6.2|1.07|                        2.65| 1280.0|     0|\n",
            "|  13.83|      1.57|2.62|             20.0|    115.0|         2.95|       3.4|                 0.4|           1.72|            6.6|1.13|                        2.57| 1130.0|     0|\n",
            "|  14.19|      1.59|2.48|             16.5|    108.0|          3.3|      3.93|                0.32|           1.86|            8.7|1.23|                        2.82| 1680.0|     0|\n",
            "|  13.64|       3.1|2.56|             15.2|    116.0|          2.7|      3.03|                0.17|           1.66|            5.1|0.96|                        3.36|  845.0|     0|\n",
            "+-------+----------+----+-----------------+---------+-------------+----------+--------------------+---------------+---------------+----+----------------------------+-------+------+\n",
            "only showing top 20 rows\n",
            "\n"
          ]
        }
      ]
    },
    {
      "cell_type": "code",
      "source": [
        "wine.printSchema()"
      ],
      "metadata": {
        "colab": {
          "base_uri": "https://localhost:8080/"
        },
        "outputId": "776cde49-d8e9-442a-be77-297c0e0926b3",
        "id": "gFDhxcnB6glv"
      },
      "execution_count": 7,
      "outputs": [
        {
          "output_type": "stream",
          "name": "stdout",
          "text": [
            "root\n",
            " |-- alcohol: double (nullable = true)\n",
            " |-- malic_acid: double (nullable = true)\n",
            " |-- ash: double (nullable = true)\n",
            " |-- alcalinity_of_ash: double (nullable = true)\n",
            " |-- magnesium: double (nullable = true)\n",
            " |-- total_phenols: double (nullable = true)\n",
            " |-- flavanoids: double (nullable = true)\n",
            " |-- nonflavanoid_phenols: double (nullable = true)\n",
            " |-- proanthocyanins: double (nullable = true)\n",
            " |-- color_intensity: double (nullable = true)\n",
            " |-- hue: double (nullable = true)\n",
            " |-- od280/od315_of_diluted_wines: double (nullable = true)\n",
            " |-- proline: double (nullable = true)\n",
            " |-- target: long (nullable = true)\n",
            "\n"
          ]
        }
      ]
    },
    {
      "cell_type": "code",
      "source": [
        "wine.columns"
      ],
      "metadata": {
        "colab": {
          "base_uri": "https://localhost:8080/"
        },
        "outputId": "c6a8fcd9-165f-4dc7-c87f-8f37b171b1f8",
        "id": "9TorzEMY6glw"
      },
      "execution_count": 8,
      "outputs": [
        {
          "output_type": "execute_result",
          "data": {
            "text/plain": [
              "['alcohol',\n",
              " 'malic_acid',\n",
              " 'ash',\n",
              " 'alcalinity_of_ash',\n",
              " 'magnesium',\n",
              " 'total_phenols',\n",
              " 'flavanoids',\n",
              " 'nonflavanoid_phenols',\n",
              " 'proanthocyanins',\n",
              " 'color_intensity',\n",
              " 'hue',\n",
              " 'od280/od315_of_diluted_wines',\n",
              " 'proline',\n",
              " 'target']"
            ]
          },
          "metadata": {},
          "execution_count": 8
        }
      ]
    },
    {
      "cell_type": "code",
      "source": [
        "from pyspark.ml.feature import VectorAssembler "
      ],
      "metadata": {
        "id": "wZjuNOGL6glw"
      },
      "execution_count": 9,
      "outputs": []
    },
    {
      "cell_type": "code",
      "source": [
        "featureassembler= VectorAssembler(inputCols=['alcohol',\n",
        " 'malic_acid',\n",
        " 'ash',\n",
        " 'alcalinity_of_ash',\n",
        " 'magnesium',\n",
        " 'total_phenols',\n",
        " 'flavanoids',\n",
        " 'nonflavanoid_phenols',\n",
        " 'proanthocyanins',\n",
        " 'color_intensity',\n",
        " 'hue',\n",
        " 'od280/od315_of_diluted_wines',\n",
        " 'proline'], outputCol='Features')"
      ],
      "metadata": {
        "id": "ooSm4UaF6glw"
      },
      "execution_count": 10,
      "outputs": []
    },
    {
      "cell_type": "code",
      "source": [
        "output = featureassembler.transform(wine)"
      ],
      "metadata": {
        "id": "jJt4WucO6glw"
      },
      "execution_count": 11,
      "outputs": []
    },
    {
      "cell_type": "code",
      "source": [
        "output.show()"
      ],
      "metadata": {
        "colab": {
          "base_uri": "https://localhost:8080/"
        },
        "outputId": "07e7cae8-ca09-438e-e30a-53f495c9ba38",
        "id": "jY_eaYl_6glw"
      },
      "execution_count": 12,
      "outputs": [
        {
          "output_type": "stream",
          "name": "stdout",
          "text": [
            "+-------+----------+----+-----------------+---------+-------------+----------+--------------------+---------------+---------------+----+----------------------------+-------+------+--------------------+\n",
            "|alcohol|malic_acid| ash|alcalinity_of_ash|magnesium|total_phenols|flavanoids|nonflavanoid_phenols|proanthocyanins|color_intensity| hue|od280/od315_of_diluted_wines|proline|target|            Features|\n",
            "+-------+----------+----+-----------------+---------+-------------+----------+--------------------+---------------+---------------+----+----------------------------+-------+------+--------------------+\n",
            "|  14.23|      1.71|2.43|             15.6|    127.0|          2.8|      3.06|                0.28|           2.29|           5.64|1.04|                        3.92| 1065.0|     0|[14.23,1.71,2.43,...|\n",
            "|   13.2|      1.78|2.14|             11.2|    100.0|         2.65|      2.76|                0.26|           1.28|           4.38|1.05|                         3.4| 1050.0|     0|[13.2,1.78,2.14,1...|\n",
            "|  13.16|      2.36|2.67|             18.6|    101.0|          2.8|      3.24|                 0.3|           2.81|           5.68|1.03|                        3.17| 1185.0|     0|[13.16,2.36,2.67,...|\n",
            "|  14.37|      1.95| 2.5|             16.8|    113.0|         3.85|      3.49|                0.24|           2.18|            7.8|0.86|                        3.45| 1480.0|     0|[14.37,1.95,2.5,1...|\n",
            "|  13.24|      2.59|2.87|             21.0|    118.0|          2.8|      2.69|                0.39|           1.82|           4.32|1.04|                        2.93|  735.0|     0|[13.24,2.59,2.87,...|\n",
            "|   14.2|      1.76|2.45|             15.2|    112.0|         3.27|      3.39|                0.34|           1.97|           6.75|1.05|                        2.85| 1450.0|     0|[14.2,1.76,2.45,1...|\n",
            "|  14.39|      1.87|2.45|             14.6|     96.0|          2.5|      2.52|                 0.3|           1.98|           5.25|1.02|                        3.58| 1290.0|     0|[14.39,1.87,2.45,...|\n",
            "|  14.06|      2.15|2.61|             17.6|    121.0|          2.6|      2.51|                0.31|           1.25|           5.05|1.06|                        3.58| 1295.0|     0|[14.06,2.15,2.61,...|\n",
            "|  14.83|      1.64|2.17|             14.0|     97.0|          2.8|      2.98|                0.29|           1.98|            5.2|1.08|                        2.85| 1045.0|     0|[14.83,1.64,2.17,...|\n",
            "|  13.86|      1.35|2.27|             16.0|     98.0|         2.98|      3.15|                0.22|           1.85|           7.22|1.01|                        3.55| 1045.0|     0|[13.86,1.35,2.27,...|\n",
            "|   14.1|      2.16| 2.3|             18.0|    105.0|         2.95|      3.32|                0.22|           2.38|           5.75|1.25|                        3.17| 1510.0|     0|[14.1,2.16,2.3,18...|\n",
            "|  14.12|      1.48|2.32|             16.8|     95.0|          2.2|      2.43|                0.26|           1.57|            5.0|1.17|                        2.82| 1280.0|     0|[14.12,1.48,2.32,...|\n",
            "|  13.75|      1.73|2.41|             16.0|     89.0|          2.6|      2.76|                0.29|           1.81|            5.6|1.15|                         2.9| 1320.0|     0|[13.75,1.73,2.41,...|\n",
            "|  14.75|      1.73|2.39|             11.4|     91.0|          3.1|      3.69|                0.43|           2.81|            5.4|1.25|                        2.73| 1150.0|     0|[14.75,1.73,2.39,...|\n",
            "|  14.38|      1.87|2.38|             12.0|    102.0|          3.3|      3.64|                0.29|           2.96|            7.5| 1.2|                         3.0| 1547.0|     0|[14.38,1.87,2.38,...|\n",
            "|  13.63|      1.81| 2.7|             17.2|    112.0|         2.85|      2.91|                 0.3|           1.46|            7.3|1.28|                        2.88| 1310.0|     0|[13.63,1.81,2.7,1...|\n",
            "|   14.3|      1.92|2.72|             20.0|    120.0|          2.8|      3.14|                0.33|           1.97|            6.2|1.07|                        2.65| 1280.0|     0|[14.3,1.92,2.72,2...|\n",
            "|  13.83|      1.57|2.62|             20.0|    115.0|         2.95|       3.4|                 0.4|           1.72|            6.6|1.13|                        2.57| 1130.0|     0|[13.83,1.57,2.62,...|\n",
            "|  14.19|      1.59|2.48|             16.5|    108.0|          3.3|      3.93|                0.32|           1.86|            8.7|1.23|                        2.82| 1680.0|     0|[14.19,1.59,2.48,...|\n",
            "|  13.64|       3.1|2.56|             15.2|    116.0|          2.7|      3.03|                0.17|           1.66|            5.1|0.96|                        3.36|  845.0|     0|[13.64,3.1,2.56,1...|\n",
            "+-------+----------+----+-----------------+---------+-------------+----------+--------------------+---------------+---------------+----+----------------------------+-------+------+--------------------+\n",
            "only showing top 20 rows\n",
            "\n"
          ]
        }
      ]
    },
    {
      "cell_type": "code",
      "source": [
        "modeldata=output.select('Features','target')"
      ],
      "metadata": {
        "id": "08O1r4kX6glx"
      },
      "execution_count": 13,
      "outputs": []
    },
    {
      "cell_type": "code",
      "source": [
        "modeldata.show()"
      ],
      "metadata": {
        "colab": {
          "base_uri": "https://localhost:8080/"
        },
        "outputId": "7bc7ac34-dda6-4949-e80b-95f544dcca10",
        "id": "DyyYW9Ml6glx"
      },
      "execution_count": 14,
      "outputs": [
        {
          "output_type": "stream",
          "name": "stdout",
          "text": [
            "+--------------------+------+\n",
            "|            Features|target|\n",
            "+--------------------+------+\n",
            "|[14.23,1.71,2.43,...|     0|\n",
            "|[13.2,1.78,2.14,1...|     0|\n",
            "|[13.16,2.36,2.67,...|     0|\n",
            "|[14.37,1.95,2.5,1...|     0|\n",
            "|[13.24,2.59,2.87,...|     0|\n",
            "|[14.2,1.76,2.45,1...|     0|\n",
            "|[14.39,1.87,2.45,...|     0|\n",
            "|[14.06,2.15,2.61,...|     0|\n",
            "|[14.83,1.64,2.17,...|     0|\n",
            "|[13.86,1.35,2.27,...|     0|\n",
            "|[14.1,2.16,2.3,18...|     0|\n",
            "|[14.12,1.48,2.32,...|     0|\n",
            "|[13.75,1.73,2.41,...|     0|\n",
            "|[14.75,1.73,2.39,...|     0|\n",
            "|[14.38,1.87,2.38,...|     0|\n",
            "|[13.63,1.81,2.7,1...|     0|\n",
            "|[14.3,1.92,2.72,2...|     0|\n",
            "|[13.83,1.57,2.62,...|     0|\n",
            "|[14.19,1.59,2.48,...|     0|\n",
            "|[13.64,3.1,2.56,1...|     0|\n",
            "+--------------------+------+\n",
            "only showing top 20 rows\n",
            "\n"
          ]
        }
      ]
    },
    {
      "cell_type": "code",
      "source": [
        "# split data\n",
        "train_data,test_data=modeldata.randomSplit([0.8,0.2])"
      ],
      "metadata": {
        "id": "-KbpnDWC6glx"
      },
      "execution_count": 15,
      "outputs": []
    },
    {
      "cell_type": "code",
      "source": [
        "train_data.show()"
      ],
      "metadata": {
        "colab": {
          "base_uri": "https://localhost:8080/"
        },
        "outputId": "5e740ebe-ab16-4d69-93e9-d9138acba75b",
        "id": "tZcfp4R26glx"
      },
      "execution_count": 16,
      "outputs": [
        {
          "output_type": "stream",
          "name": "stdout",
          "text": [
            "+--------------------+------+\n",
            "|            Features|target|\n",
            "+--------------------+------+\n",
            "|[11.64,2.06,2.46,...|     1|\n",
            "|[11.65,1.67,2.62,...|     1|\n",
            "|[11.84,0.89,2.58,...|     1|\n",
            "|[11.84,2.89,2.23,...|     1|\n",
            "|[11.96,1.09,2.3,2...|     1|\n",
            "|[12.08,1.13,2.51,...|     1|\n",
            "|[12.21,1.19,1.75,...|     1|\n",
            "|[12.29,1.61,2.21,...|     1|\n",
            "|[12.33,1.1,2.28,1...|     1|\n",
            "|[12.37,1.13,2.16,...|     1|\n",
            "|[12.37,1.17,1.92,...|     1|\n",
            "|[12.37,1.21,2.56,...|     1|\n",
            "|[12.64,1.36,2.02,...|     1|\n",
            "|[12.67,0.98,2.24,...|     1|\n",
            "|[12.7,3.87,2.4,23...|     1|\n",
            "|[12.72,1.81,2.2,1...|     1|\n",
            "|[12.85,1.6,2.52,1...|     0|\n",
            "|[12.93,3.8,2.65,1...|     0|\n",
            "|[12.99,1.67,2.6,3...|     1|\n",
            "|[13.03,0.9,1.71,1...|     1|\n",
            "+--------------------+------+\n",
            "only showing top 20 rows\n",
            "\n"
          ]
        }
      ]
    },
    {
      "cell_type": "code",
      "source": [
        "# Random Forest classification model\n",
        "from pyspark.ml.classification import RandomForestClassifier"
      ],
      "metadata": {
        "id": "u-RUxJVW6glx"
      },
      "execution_count": 17,
      "outputs": []
    },
    {
      "cell_type": "code",
      "source": [
        "rf = RandomForestClassifier(featuresCol='Features', labelCol='target')"
      ],
      "metadata": {
        "id": "aqAG3-Mc6glx"
      },
      "execution_count": 18,
      "outputs": []
    },
    {
      "cell_type": "code",
      "source": [
        "rf = rf.fit(train_data)"
      ],
      "metadata": {
        "id": "b5MoY_w46gly"
      },
      "execution_count": 19,
      "outputs": []
    },
    {
      "cell_type": "code",
      "source": [
        "# prediction\n",
        "y_pred = rf.transform(test_data)"
      ],
      "metadata": {
        "id": "yyk6Ost36gly"
      },
      "execution_count": 20,
      "outputs": []
    },
    {
      "cell_type": "code",
      "source": [
        "y_pred.show()"
      ],
      "metadata": {
        "colab": {
          "base_uri": "https://localhost:8080/"
        },
        "outputId": "9c2a2a32-06e3-4829-902f-00502aa6182c",
        "id": "TLNLJhI16gly"
      },
      "execution_count": 21,
      "outputs": [
        {
          "output_type": "stream",
          "name": "stdout",
          "text": [
            "+--------------------+------+--------------------+--------------------+----------+\n",
            "|            Features|target|       rawPrediction|         probability|prediction|\n",
            "+--------------------+------+--------------------+--------------------+----------+\n",
            "|[11.66,1.88,1.92,...|     1|[0.97727272727272...|[0.04886363636363...|       1.0|\n",
            "|[12.0,0.92,2.0,19...|     1|      [0.0,20.0,0.0]|       [0.0,1.0,0.0]|       1.0|\n",
            "|[12.16,1.61,2.31,...|     1|      [0.0,20.0,0.0]|       [0.0,1.0,0.0]|       1.0|\n",
            "|[12.17,1.45,2.53,...|     1|      [0.0,20.0,0.0]|       [0.0,1.0,0.0]|       1.0|\n",
            "|[12.33,0.99,1.95,...|     1|      [7.0,13.0,0.0]|     [0.35,0.65,0.0]|       1.0|\n",
            "|[12.37,0.94,1.36,...|     1|      [0.0,18.0,2.0]|       [0.0,0.9,0.1]|       1.0|\n",
            "|[13.05,3.86,2.32,...|     1|[3.03333333333333...|[0.15166666666666...|       2.0|\n",
            "|[13.29,1.97,2.68,...|     0|[19.9545454545454...|[0.99772727272727...|       0.0|\n",
            "|[13.3,1.72,2.14,1...|     0|[18.9545454545454...|[0.94772727272727...|       0.0|\n",
            "|[13.49,1.66,2.24,...|     1|      [6.0,12.0,2.0]|       [0.3,0.6,0.1]|       1.0|\n",
            "|[13.64,3.1,2.56,1...|     0|[19.7545454545454...|[0.98772727272727...|       0.0|\n",
            "|[13.67,1.25,1.92,...|     1|      [7.0,10.0,3.0]|     [0.35,0.5,0.15]|       1.0|\n",
            "|[13.77,1.9,2.68,1...|     0|[19.9545454545454...|[0.99772727272727...|       0.0|\n",
            "|[13.83,1.65,2.6,1...|     0|[19.9545454545454...|[0.99772727272727...|       0.0|\n",
            "|[14.06,1.63,2.28,...|     0|[19.7545454545454...|[0.98772727272727...|       0.0|\n",
            "|[14.06,2.15,2.61,...|     0|[19.9545454545454...|[0.99772727272727...|       0.0|\n",
            "|[14.23,1.71,2.43,...|     0|[19.9545454545454...|[0.99772727272727...|       0.0|\n",
            "|[14.37,1.95,2.5,1...|     0|[19.9545454545454...|[0.99772727272727...|       0.0|\n",
            "|[14.38,1.87,2.38,...|     0|[19.9545454545454...|[0.99772727272727...|       0.0|\n",
            "|[14.38,3.59,2.28,...|     0|[19.9545454545454...|[0.99772727272727...|       0.0|\n",
            "+--------------------+------+--------------------+--------------------+----------+\n",
            "only showing top 20 rows\n",
            "\n"
          ]
        }
      ]
    },
    {
      "cell_type": "code",
      "source": [
        "# confusion matrix\n",
        "y_pred.groupBy('target', 'prediction').count().show()"
      ],
      "metadata": {
        "colab": {
          "base_uri": "https://localhost:8080/"
        },
        "id": "aP0v4QDgrP8Q",
        "outputId": "d0eb96ae-2f8d-42e5-cc67-923e75a6f0c1"
      },
      "execution_count": 22,
      "outputs": [
        {
          "output_type": "stream",
          "name": "stdout",
          "text": [
            "+------+----------+-----+\n",
            "|target|prediction|count|\n",
            "+------+----------+-----+\n",
            "|     1|       2.0|    1|\n",
            "|     0|       0.0|   11|\n",
            "|     1|       1.0|   17|\n",
            "|     2|       2.0|   10|\n",
            "+------+----------+-----+\n",
            "\n"
          ]
        }
      ]
    },
    {
      "cell_type": "code",
      "source": [
        "from sklearn.metrics import confusion_matrix\n",
        "pred=y_pred.select(\"prediction\").collect()\n",
        "orig=y_pred.select(\"target\").collect()\n",
        "print(confusion_matrix(orig, pred))"
      ],
      "metadata": {
        "colab": {
          "base_uri": "https://localhost:8080/"
        },
        "id": "57T0b7gOw_t9",
        "outputId": "c6e77d88-3c20-4012-a6a3-17259bf096c7"
      },
      "execution_count": 23,
      "outputs": [
        {
          "output_type": "stream",
          "name": "stdout",
          "text": [
            "[[11  0  0]\n",
            " [ 0 17  1]\n",
            " [ 0  0 10]]\n"
          ]
        }
      ]
    },
    {
      "cell_type": "markdown",
      "source": [
        "(f1|accuracy|weightedPrecision|weightedRecall|weightedTruePositiveRate| weightedFalsePositiveRate|weightedFMeasure|truePositiveRateByLabel| falsePositiveRateByLabel|precisionByLabel|recallByLabel|fMeasureByLabel| logLoss|hammingLoss)"
      ],
      "metadata": {
        "id": "UBMExg8BDIi2"
      }
    },
    {
      "cell_type": "code",
      "source": [
        "# evaluation\n",
        "from pyspark.ml.evaluation import MulticlassClassificationEvaluator"
      ],
      "metadata": {
        "id": "1z9f4RbN_2NU"
      },
      "execution_count": 24,
      "outputs": []
    },
    {
      "cell_type": "code",
      "source": [
        "evaluator = MulticlassClassificationEvaluator(\n",
        "    labelCol='target', predictionCol='prediction')"
      ],
      "metadata": {
        "id": "9keKjBLvxq_c"
      },
      "execution_count": 25,
      "outputs": []
    },
    {
      "cell_type": "code",
      "source": [
        "accuracy = evaluator.evaluate(y_pred)\n",
        "accuracy"
      ],
      "metadata": {
        "colab": {
          "base_uri": "https://localhost:8080/"
        },
        "id": "HNbJEY7A_3NG",
        "outputId": "1cc87bfe-5800-46f5-e0e4-06ba6284a4c6"
      },
      "execution_count": 26,
      "outputs": [
        {
          "output_type": "execute_result",
          "data": {
            "text/plain": [
              "0.9746031746031746"
            ]
          },
          "metadata": {},
          "execution_count": 26
        }
      ]
    },
    {
      "cell_type": "code",
      "source": [
        "# close connection to spark\n",
        "spark.stop()"
      ],
      "metadata": {
        "id": "T5fn3z4r6gly"
      },
      "execution_count": 27,
      "outputs": []
    }
  ]
}