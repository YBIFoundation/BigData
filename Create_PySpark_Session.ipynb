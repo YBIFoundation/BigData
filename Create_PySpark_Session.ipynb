{
  "nbformat": 4,
  "nbformat_minor": 0,
  "metadata": {
    "colab": {
      "provenance": []
    },
    "kernelspec": {
      "name": "python3",
      "display_name": "Python 3"
    },
    "language_info": {
      "name": "python"
    }
  },
  "cells": [
    {
      "cell_type": "markdown",
      "source": [
        "# **PySpark Create Session**"
      ],
      "metadata": {
        "id": "jm0mVoeiUtDk"
      }
    },
    {
      "cell_type": "markdown",
      "source": [
        "# **Installation & Import**"
      ],
      "metadata": {
        "id": "Fss4iZQhlVZk"
      }
    },
    {
      "cell_type": "code",
      "execution_count": 1,
      "metadata": {
        "colab": {
          "base_uri": "https://localhost:8080/"
        },
        "id": "XPyjvLFRhc0t",
        "outputId": "7312dd51-683d-4e52-fed1-a84fdfb6e372"
      },
      "outputs": [
        {
          "output_type": "stream",
          "name": "stdout",
          "text": [
            "Looking in indexes: https://pypi.org/simple, https://us-python.pkg.dev/colab-wheels/public/simple/\n",
            "Requirement already satisfied: pyspark in /usr/local/lib/python3.8/dist-packages (3.3.2)\n",
            "Requirement already satisfied: py4j==0.10.9.5 in /usr/local/lib/python3.8/dist-packages (from pyspark) (0.10.9.5)\n"
          ]
        }
      ],
      "source": [
        "# install pyspark\n",
        "!pip install pyspark"
      ]
    },
    {
      "cell_type": "code",
      "source": [
        "# import pyspark\n",
        "import pyspark"
      ],
      "metadata": {
        "id": "PnBexEZlhhS9"
      },
      "execution_count": 2,
      "outputs": []
    },
    {
      "cell_type": "code",
      "source": [
        "#check version\n",
        "pyspark.__version__"
      ],
      "metadata": {
        "colab": {
          "base_uri": "https://localhost:8080/",
          "height": 35
        },
        "id": "d-6uCDOwCdDy",
        "outputId": "8c276505-0000-4d55-85fa-db8ea4457c46"
      },
      "execution_count": 3,
      "outputs": [
        {
          "output_type": "execute_result",
          "data": {
            "text/plain": [
              "'3.3.2'"
            ],
            "application/vnd.google.colaboratory.intrinsic+json": {
              "type": "string"
            }
          },
          "metadata": {},
          "execution_count": 3
        }
      ]
    },
    {
      "cell_type": "markdown",
      "source": [
        "# **Start Spark Session**"
      ],
      "metadata": {
        "id": "44AcCNomlbH_"
      }
    },
    {
      "cell_type": "code",
      "source": [
        "# start spark session\n",
        "from pyspark.sql import SparkSession"
      ],
      "metadata": {
        "id": "mhwal7LqimXW"
      },
      "execution_count": 4,
      "outputs": []
    },
    {
      "cell_type": "code",
      "source": [
        "# create spark session\n",
        "spark=SparkSession.builder.getOrCreate()"
      ],
      "metadata": {
        "id": "81tJLTahmeNQ"
      },
      "execution_count": 5,
      "outputs": []
    },
    {
      "cell_type": "code",
      "source": [
        "# or customize\n",
        "spark=SparkSession.builder.master('local[*]').appName('YBIFoundation').getOrCreate()"
      ],
      "metadata": {
        "id": "SqQzBj1ImEN8"
      },
      "execution_count": 6,
      "outputs": []
    },
    {
      "cell_type": "code",
      "source": [
        "# same as above code but written in separate lines\n",
        "spark=SparkSession.builder\\\n",
        ".master('local[*]')\\\n",
        ".appName('YBIFoundation')\\\n",
        ".getOrCreate()"
      ],
      "metadata": {
        "id": "pEGpO1OTjGgg"
      },
      "execution_count": 7,
      "outputs": []
    },
    {
      "cell_type": "code",
      "source": [
        "spark"
      ],
      "metadata": {
        "colab": {
          "base_uri": "https://localhost:8080/",
          "height": 219
        },
        "id": "NbN2ef7njiru",
        "outputId": "41ec1c03-ddfa-4062-82ca-d7988225fd47"
      },
      "execution_count": 8,
      "outputs": [
        {
          "output_type": "execute_result",
          "data": {
            "text/plain": [
              "<pyspark.sql.session.SparkSession at 0x7f5b3c4c5e20>"
            ],
            "text/html": [
              "\n",
              "            <div>\n",
              "                <p><b>SparkSession - in-memory</b></p>\n",
              "                \n",
              "        <div>\n",
              "            <p><b>SparkContext</b></p>\n",
              "\n",
              "            <p><a href=\"http://212c28008cfe:4040\">Spark UI</a></p>\n",
              "\n",
              "            <dl>\n",
              "              <dt>Version</dt>\n",
              "                <dd><code>v3.3.2</code></dd>\n",
              "              <dt>Master</dt>\n",
              "                <dd><code>local[*]</code></dd>\n",
              "              <dt>AppName</dt>\n",
              "                <dd><code>pyspark-shell</code></dd>\n",
              "            </dl>\n",
              "        </div>\n",
              "        \n",
              "            </div>\n",
              "        "
            ]
          },
          "metadata": {},
          "execution_count": 8
        }
      ]
    },
    {
      "cell_type": "markdown",
      "source": [
        "# **Import Data**"
      ],
      "metadata": {
        "id": "T-ySNpLNmLUy"
      }
    },
    {
      "cell_type": "code",
      "source": [
        "# read Google Colab sample csv data\n",
        "sample=spark.read.csv('/content/sample_data/california_housing_train.csv')"
      ],
      "metadata": {
        "id": "biXAK3vXjoyU"
      },
      "execution_count": 9,
      "outputs": []
    },
    {
      "cell_type": "code",
      "source": [
        "sample"
      ],
      "metadata": {
        "colab": {
          "base_uri": "https://localhost:8080/"
        },
        "id": "8ZERhUNAj9Gc",
        "outputId": "43851c43-be26-4891-dbeb-9de4953184fb"
      },
      "execution_count": 10,
      "outputs": [
        {
          "output_type": "execute_result",
          "data": {
            "text/plain": [
              "DataFrame[_c0: string, _c1: string, _c2: string, _c3: string, _c4: string, _c5: string, _c6: string, _c7: string, _c8: string]"
            ]
          },
          "metadata": {},
          "execution_count": 10
        }
      ]
    },
    {
      "cell_type": "code",
      "source": [
        "# by default import do not infer header\n",
        "sample.show()"
      ],
      "metadata": {
        "colab": {
          "base_uri": "https://localhost:8080/"
        },
        "id": "0xsJd6Cqkk9n",
        "outputId": "bf99d07d-7a7f-41cb-905d-ceeffde58f24"
      },
      "execution_count": 11,
      "outputs": [
        {
          "output_type": "stream",
          "name": "stdout",
          "text": [
            "+-----------+---------+------------------+-----------+--------------+-----------+-----------+-------------+------------------+\n",
            "|        _c0|      _c1|               _c2|        _c3|           _c4|        _c5|        _c6|          _c7|               _c8|\n",
            "+-----------+---------+------------------+-----------+--------------+-----------+-----------+-------------+------------------+\n",
            "|  longitude| latitude|housing_median_age|total_rooms|total_bedrooms| population| households|median_income|median_house_value|\n",
            "|-114.310000|34.190000|         15.000000|5612.000000|   1283.000000|1015.000000| 472.000000|     1.493600|      66900.000000|\n",
            "|-114.470000|34.400000|         19.000000|7650.000000|   1901.000000|1129.000000| 463.000000|     1.820000|      80100.000000|\n",
            "|-114.560000|33.690000|         17.000000| 720.000000|    174.000000| 333.000000| 117.000000|     1.650900|      85700.000000|\n",
            "|-114.570000|33.640000|         14.000000|1501.000000|    337.000000| 515.000000| 226.000000|     3.191700|      73400.000000|\n",
            "|-114.570000|33.570000|         20.000000|1454.000000|    326.000000| 624.000000| 262.000000|     1.925000|      65500.000000|\n",
            "|-114.580000|33.630000|         29.000000|1387.000000|    236.000000| 671.000000| 239.000000|     3.343800|      74000.000000|\n",
            "|-114.580000|33.610000|         25.000000|2907.000000|    680.000000|1841.000000| 633.000000|     2.676800|      82400.000000|\n",
            "|-114.590000|34.830000|         41.000000| 812.000000|    168.000000| 375.000000| 158.000000|     1.708300|      48500.000000|\n",
            "|-114.590000|33.610000|         34.000000|4789.000000|   1175.000000|3134.000000|1056.000000|     2.178200|      58400.000000|\n",
            "|-114.600000|34.830000|         46.000000|1497.000000|    309.000000| 787.000000| 271.000000|     2.190800|      48100.000000|\n",
            "|-114.600000|33.620000|         16.000000|3741.000000|    801.000000|2434.000000| 824.000000|     2.679700|      86500.000000|\n",
            "|-114.600000|33.600000|         21.000000|1988.000000|    483.000000|1182.000000| 437.000000|     1.625000|      62000.000000|\n",
            "|-114.610000|34.840000|         48.000000|1291.000000|    248.000000| 580.000000| 211.000000|     2.157100|      48600.000000|\n",
            "|-114.610000|34.830000|         31.000000|2478.000000|    464.000000|1346.000000| 479.000000|     3.212000|      70400.000000|\n",
            "|-114.630000|32.760000|         15.000000|1448.000000|    378.000000| 949.000000| 300.000000|     0.858500|      45000.000000|\n",
            "|-114.650000|34.890000|         17.000000|2556.000000|    587.000000|1005.000000| 401.000000|     1.699100|      69100.000000|\n",
            "|-114.650000|33.600000|         28.000000|1678.000000|    322.000000| 666.000000| 256.000000|     2.965300|      94900.000000|\n",
            "|-114.650000|32.790000|         21.000000|  44.000000|     33.000000|  64.000000|  27.000000|     0.857100|      25000.000000|\n",
            "|-114.660000|32.740000|         17.000000|1388.000000|    386.000000| 775.000000| 320.000000|     1.204900|      44000.000000|\n",
            "+-----------+---------+------------------+-----------+--------------+-----------+-----------+-------------+------------------+\n",
            "only showing top 20 rows\n",
            "\n"
          ]
        }
      ]
    },
    {
      "cell_type": "code",
      "source": [
        "# read smaple data with header & schema\n",
        "sample = spark.read.csv('/content/sample_data/california_housing_train.csv',header=True,inferSchema=True)"
      ],
      "metadata": {
        "id": "C7RyQk0lmXmd"
      },
      "execution_count": 12,
      "outputs": []
    },
    {
      "cell_type": "code",
      "source": [
        "sample.show()"
      ],
      "metadata": {
        "colab": {
          "base_uri": "https://localhost:8080/"
        },
        "id": "ow5iK505lJC5",
        "outputId": "d7a6a607-e3c8-4e76-b412-664e13a54129"
      },
      "execution_count": 13,
      "outputs": [
        {
          "output_type": "stream",
          "name": "stdout",
          "text": [
            "+---------+--------+------------------+-----------+--------------+----------+----------+-------------+------------------+\n",
            "|longitude|latitude|housing_median_age|total_rooms|total_bedrooms|population|households|median_income|median_house_value|\n",
            "+---------+--------+------------------+-----------+--------------+----------+----------+-------------+------------------+\n",
            "|  -114.31|   34.19|              15.0|     5612.0|        1283.0|    1015.0|     472.0|       1.4936|           66900.0|\n",
            "|  -114.47|    34.4|              19.0|     7650.0|        1901.0|    1129.0|     463.0|         1.82|           80100.0|\n",
            "|  -114.56|   33.69|              17.0|      720.0|         174.0|     333.0|     117.0|       1.6509|           85700.0|\n",
            "|  -114.57|   33.64|              14.0|     1501.0|         337.0|     515.0|     226.0|       3.1917|           73400.0|\n",
            "|  -114.57|   33.57|              20.0|     1454.0|         326.0|     624.0|     262.0|        1.925|           65500.0|\n",
            "|  -114.58|   33.63|              29.0|     1387.0|         236.0|     671.0|     239.0|       3.3438|           74000.0|\n",
            "|  -114.58|   33.61|              25.0|     2907.0|         680.0|    1841.0|     633.0|       2.6768|           82400.0|\n",
            "|  -114.59|   34.83|              41.0|      812.0|         168.0|     375.0|     158.0|       1.7083|           48500.0|\n",
            "|  -114.59|   33.61|              34.0|     4789.0|        1175.0|    3134.0|    1056.0|       2.1782|           58400.0|\n",
            "|   -114.6|   34.83|              46.0|     1497.0|         309.0|     787.0|     271.0|       2.1908|           48100.0|\n",
            "|   -114.6|   33.62|              16.0|     3741.0|         801.0|    2434.0|     824.0|       2.6797|           86500.0|\n",
            "|   -114.6|    33.6|              21.0|     1988.0|         483.0|    1182.0|     437.0|        1.625|           62000.0|\n",
            "|  -114.61|   34.84|              48.0|     1291.0|         248.0|     580.0|     211.0|       2.1571|           48600.0|\n",
            "|  -114.61|   34.83|              31.0|     2478.0|         464.0|    1346.0|     479.0|        3.212|           70400.0|\n",
            "|  -114.63|   32.76|              15.0|     1448.0|         378.0|     949.0|     300.0|       0.8585|           45000.0|\n",
            "|  -114.65|   34.89|              17.0|     2556.0|         587.0|    1005.0|     401.0|       1.6991|           69100.0|\n",
            "|  -114.65|    33.6|              28.0|     1678.0|         322.0|     666.0|     256.0|       2.9653|           94900.0|\n",
            "|  -114.65|   32.79|              21.0|       44.0|          33.0|      64.0|      27.0|       0.8571|           25000.0|\n",
            "|  -114.66|   32.74|              17.0|     1388.0|         386.0|     775.0|     320.0|       1.2049|           44000.0|\n",
            "|  -114.67|   33.92|              17.0|       97.0|          24.0|      29.0|      15.0|       1.2656|           27500.0|\n",
            "+---------+--------+------------------+-----------+--------------+----------+----------+-------------+------------------+\n",
            "only showing top 20 rows\n",
            "\n"
          ]
        }
      ]
    },
    {
      "cell_type": "code",
      "source": [
        "# vertical view of two records\n",
        "sample.show(2, vertical=True)"
      ],
      "metadata": {
        "colab": {
          "base_uri": "https://localhost:8080/"
        },
        "id": "OKY-MFjfoN9A",
        "outputId": "9216bd78-4617-411b-d725-4b3d60dea2d0"
      },
      "execution_count": 14,
      "outputs": [
        {
          "output_type": "stream",
          "name": "stdout",
          "text": [
            "-RECORD 0---------------------\n",
            " longitude          | -114.31 \n",
            " latitude           | 34.19   \n",
            " housing_median_age | 15.0    \n",
            " total_rooms        | 5612.0  \n",
            " total_bedrooms     | 1283.0  \n",
            " population         | 1015.0  \n",
            " households         | 472.0   \n",
            " median_income      | 1.4936  \n",
            " median_house_value | 66900.0 \n",
            "-RECORD 1---------------------\n",
            " longitude          | -114.47 \n",
            " latitude           | 34.4    \n",
            " housing_median_age | 19.0    \n",
            " total_rooms        | 7650.0  \n",
            " total_bedrooms     | 1901.0  \n",
            " population         | 1129.0  \n",
            " households         | 463.0   \n",
            " median_income      | 1.82    \n",
            " median_house_value | 80100.0 \n",
            "only showing top 2 rows\n",
            "\n"
          ]
        }
      ]
    },
    {
      "cell_type": "code",
      "source": [
        "# configuration for the eager evaluation of PySpark DataFrame\n",
        "spark.conf.set('spark.sql.repl.eagerEval.enabled', True)\n",
        "sample"
      ],
      "metadata": {
        "colab": {
          "base_uri": "https://localhost:8080/",
          "height": 513
        },
        "id": "kArv4Q5xn13w",
        "outputId": "e1491005-4c53-4612-ca2a-ff79359f4808"
      },
      "execution_count": 15,
      "outputs": [
        {
          "output_type": "execute_result",
          "data": {
            "text/plain": [
              "+---------+--------+------------------+-----------+--------------+----------+----------+-------------+------------------+\n",
              "|longitude|latitude|housing_median_age|total_rooms|total_bedrooms|population|households|median_income|median_house_value|\n",
              "+---------+--------+------------------+-----------+--------------+----------+----------+-------------+------------------+\n",
              "|  -114.31|   34.19|              15.0|     5612.0|        1283.0|    1015.0|     472.0|       1.4936|           66900.0|\n",
              "|  -114.47|    34.4|              19.0|     7650.0|        1901.0|    1129.0|     463.0|         1.82|           80100.0|\n",
              "|  -114.56|   33.69|              17.0|      720.0|         174.0|     333.0|     117.0|       1.6509|           85700.0|\n",
              "|  -114.57|   33.64|              14.0|     1501.0|         337.0|     515.0|     226.0|       3.1917|           73400.0|\n",
              "|  -114.57|   33.57|              20.0|     1454.0|         326.0|     624.0|     262.0|        1.925|           65500.0|\n",
              "|  -114.58|   33.63|              29.0|     1387.0|         236.0|     671.0|     239.0|       3.3438|           74000.0|\n",
              "|  -114.58|   33.61|              25.0|     2907.0|         680.0|    1841.0|     633.0|       2.6768|           82400.0|\n",
              "|  -114.59|   34.83|              41.0|      812.0|         168.0|     375.0|     158.0|       1.7083|           48500.0|\n",
              "|  -114.59|   33.61|              34.0|     4789.0|        1175.0|    3134.0|    1056.0|       2.1782|           58400.0|\n",
              "|   -114.6|   34.83|              46.0|     1497.0|         309.0|     787.0|     271.0|       2.1908|           48100.0|\n",
              "|   -114.6|   33.62|              16.0|     3741.0|         801.0|    2434.0|     824.0|       2.6797|           86500.0|\n",
              "|   -114.6|    33.6|              21.0|     1988.0|         483.0|    1182.0|     437.0|        1.625|           62000.0|\n",
              "|  -114.61|   34.84|              48.0|     1291.0|         248.0|     580.0|     211.0|       2.1571|           48600.0|\n",
              "|  -114.61|   34.83|              31.0|     2478.0|         464.0|    1346.0|     479.0|        3.212|           70400.0|\n",
              "|  -114.63|   32.76|              15.0|     1448.0|         378.0|     949.0|     300.0|       0.8585|           45000.0|\n",
              "|  -114.65|   34.89|              17.0|     2556.0|         587.0|    1005.0|     401.0|       1.6991|           69100.0|\n",
              "|  -114.65|    33.6|              28.0|     1678.0|         322.0|     666.0|     256.0|       2.9653|           94900.0|\n",
              "|  -114.65|   32.79|              21.0|       44.0|          33.0|      64.0|      27.0|       0.8571|           25000.0|\n",
              "|  -114.66|   32.74|              17.0|     1388.0|         386.0|     775.0|     320.0|       1.2049|           44000.0|\n",
              "|  -114.67|   33.92|              17.0|       97.0|          24.0|      29.0|      15.0|       1.2656|           27500.0|\n",
              "+---------+--------+------------------+-----------+--------------+----------+----------+-------------+------------------+\n",
              "only showing top 20 rows"
            ],
            "text/html": [
              "<table border='1'>\n",
              "<tr><th>longitude</th><th>latitude</th><th>housing_median_age</th><th>total_rooms</th><th>total_bedrooms</th><th>population</th><th>households</th><th>median_income</th><th>median_house_value</th></tr>\n",
              "<tr><td>-114.31</td><td>34.19</td><td>15.0</td><td>5612.0</td><td>1283.0</td><td>1015.0</td><td>472.0</td><td>1.4936</td><td>66900.0</td></tr>\n",
              "<tr><td>-114.47</td><td>34.4</td><td>19.0</td><td>7650.0</td><td>1901.0</td><td>1129.0</td><td>463.0</td><td>1.82</td><td>80100.0</td></tr>\n",
              "<tr><td>-114.56</td><td>33.69</td><td>17.0</td><td>720.0</td><td>174.0</td><td>333.0</td><td>117.0</td><td>1.6509</td><td>85700.0</td></tr>\n",
              "<tr><td>-114.57</td><td>33.64</td><td>14.0</td><td>1501.0</td><td>337.0</td><td>515.0</td><td>226.0</td><td>3.1917</td><td>73400.0</td></tr>\n",
              "<tr><td>-114.57</td><td>33.57</td><td>20.0</td><td>1454.0</td><td>326.0</td><td>624.0</td><td>262.0</td><td>1.925</td><td>65500.0</td></tr>\n",
              "<tr><td>-114.58</td><td>33.63</td><td>29.0</td><td>1387.0</td><td>236.0</td><td>671.0</td><td>239.0</td><td>3.3438</td><td>74000.0</td></tr>\n",
              "<tr><td>-114.58</td><td>33.61</td><td>25.0</td><td>2907.0</td><td>680.0</td><td>1841.0</td><td>633.0</td><td>2.6768</td><td>82400.0</td></tr>\n",
              "<tr><td>-114.59</td><td>34.83</td><td>41.0</td><td>812.0</td><td>168.0</td><td>375.0</td><td>158.0</td><td>1.7083</td><td>48500.0</td></tr>\n",
              "<tr><td>-114.59</td><td>33.61</td><td>34.0</td><td>4789.0</td><td>1175.0</td><td>3134.0</td><td>1056.0</td><td>2.1782</td><td>58400.0</td></tr>\n",
              "<tr><td>-114.6</td><td>34.83</td><td>46.0</td><td>1497.0</td><td>309.0</td><td>787.0</td><td>271.0</td><td>2.1908</td><td>48100.0</td></tr>\n",
              "<tr><td>-114.6</td><td>33.62</td><td>16.0</td><td>3741.0</td><td>801.0</td><td>2434.0</td><td>824.0</td><td>2.6797</td><td>86500.0</td></tr>\n",
              "<tr><td>-114.6</td><td>33.6</td><td>21.0</td><td>1988.0</td><td>483.0</td><td>1182.0</td><td>437.0</td><td>1.625</td><td>62000.0</td></tr>\n",
              "<tr><td>-114.61</td><td>34.84</td><td>48.0</td><td>1291.0</td><td>248.0</td><td>580.0</td><td>211.0</td><td>2.1571</td><td>48600.0</td></tr>\n",
              "<tr><td>-114.61</td><td>34.83</td><td>31.0</td><td>2478.0</td><td>464.0</td><td>1346.0</td><td>479.0</td><td>3.212</td><td>70400.0</td></tr>\n",
              "<tr><td>-114.63</td><td>32.76</td><td>15.0</td><td>1448.0</td><td>378.0</td><td>949.0</td><td>300.0</td><td>0.8585</td><td>45000.0</td></tr>\n",
              "<tr><td>-114.65</td><td>34.89</td><td>17.0</td><td>2556.0</td><td>587.0</td><td>1005.0</td><td>401.0</td><td>1.6991</td><td>69100.0</td></tr>\n",
              "<tr><td>-114.65</td><td>33.6</td><td>28.0</td><td>1678.0</td><td>322.0</td><td>666.0</td><td>256.0</td><td>2.9653</td><td>94900.0</td></tr>\n",
              "<tr><td>-114.65</td><td>32.79</td><td>21.0</td><td>44.0</td><td>33.0</td><td>64.0</td><td>27.0</td><td>0.8571</td><td>25000.0</td></tr>\n",
              "<tr><td>-114.66</td><td>32.74</td><td>17.0</td><td>1388.0</td><td>386.0</td><td>775.0</td><td>320.0</td><td>1.2049</td><td>44000.0</td></tr>\n",
              "<tr><td>-114.67</td><td>33.92</td><td>17.0</td><td>97.0</td><td>24.0</td><td>29.0</td><td>15.0</td><td>1.2656</td><td>27500.0</td></tr>\n",
              "</table>\n",
              "only showing top 20 rows\n"
            ]
          },
          "metadata": {},
          "execution_count": 15
        }
      ]
    },
    {
      "cell_type": "markdown",
      "source": [
        "# **Stop Spark Session**"
      ],
      "metadata": {
        "id": "ZmqiRCTNnJUx"
      }
    },
    {
      "cell_type": "code",
      "source": [
        "spark.stop()"
      ],
      "metadata": {
        "id": "94RrCQMlnTdx"
      },
      "execution_count": 16,
      "outputs": []
    }
  ]
}