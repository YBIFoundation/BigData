{
  "nbformat": 4,
  "nbformat_minor": 0,
  "metadata": {
    "colab": {
      "provenance": []
    },
    "kernelspec": {
      "name": "python3",
      "display_name": "Python 3"
    },
    "language_info": {
      "name": "python"
    }
  },
  "cells": [
    {
      "cell_type": "markdown",
      "source": [
        "# **IRIS Naive Bayes Classification**"
      ],
      "metadata": {
        "id": "H5URi95VNn23"
      }
    },
    {
      "cell_type": "code",
      "source": [
        "# install\n",
        "!pip install Pyspark"
      ],
      "metadata": {
        "id": "gwe9FeysidtE"
      },
      "execution_count": null,
      "outputs": []
    },
    {
      "cell_type": "code",
      "source": [
        "# start spark session\n",
        "from pyspark.sql import SparkSession"
      ],
      "metadata": {
        "id": "J5wjW5Ud6McP"
      },
      "execution_count": 2,
      "outputs": []
    },
    {
      "cell_type": "code",
      "source": [
        "spark=SparkSession.builder.getOrCreate()"
      ],
      "metadata": {
        "id": "CELhWhbn6McP"
      },
      "execution_count": 3,
      "outputs": []
    },
    {
      "cell_type": "code",
      "source": [
        "spark"
      ],
      "metadata": {
        "colab": {
          "base_uri": "https://localhost:8080/",
          "height": 219
        },
        "outputId": "dcc56e83-56be-4891-b8ed-2170390111d2",
        "id": "bj7IILDV6McP"
      },
      "execution_count": 4,
      "outputs": [
        {
          "output_type": "execute_result",
          "data": {
            "text/plain": [
              "<pyspark.sql.session.SparkSession at 0x7f86280e5b20>"
            ],
            "text/html": [
              "\n",
              "            <div>\n",
              "                <p><b>SparkSession - in-memory</b></p>\n",
              "                \n",
              "        <div>\n",
              "            <p><b>SparkContext</b></p>\n",
              "\n",
              "            <p><a href=\"http://34f1da213a52:4040\">Spark UI</a></p>\n",
              "\n",
              "            <dl>\n",
              "              <dt>Version</dt>\n",
              "                <dd><code>v3.3.2</code></dd>\n",
              "              <dt>Master</dt>\n",
              "                <dd><code>local[*]</code></dd>\n",
              "              <dt>AppName</dt>\n",
              "                <dd><code>pyspark-shell</code></dd>\n",
              "            </dl>\n",
              "        </div>\n",
              "        \n",
              "            </div>\n",
              "        "
            ]
          },
          "metadata": {},
          "execution_count": 4
        }
      ]
    },
    {
      "cell_type": "code",
      "source": [
        "# read sklearn inbuilt data\n",
        "import pandas as pd\n",
        "import numpy as np\n",
        "from sklearn.datasets import load_iris\n",
        "iris = load_iris(as_frame=True)\n",
        "iris = iris.frame\n",
        "iris = spark.createDataFrame(iris)"
      ],
      "metadata": {
        "id": "xcsHrgdw6glu"
      },
      "execution_count": 5,
      "outputs": []
    },
    {
      "cell_type": "code",
      "source": [
        "iris.show()"
      ],
      "metadata": {
        "colab": {
          "base_uri": "https://localhost:8080/"
        },
        "outputId": "22367a35-0db0-47b2-a3c0-030b425d2988",
        "id": "BRXO_exO6glv"
      },
      "execution_count": 6,
      "outputs": [
        {
          "output_type": "stream",
          "name": "stdout",
          "text": [
            "+-----------------+----------------+-----------------+----------------+------+\n",
            "|sepal length (cm)|sepal width (cm)|petal length (cm)|petal width (cm)|target|\n",
            "+-----------------+----------------+-----------------+----------------+------+\n",
            "|              5.1|             3.5|              1.4|             0.2|     0|\n",
            "|              4.9|             3.0|              1.4|             0.2|     0|\n",
            "|              4.7|             3.2|              1.3|             0.2|     0|\n",
            "|              4.6|             3.1|              1.5|             0.2|     0|\n",
            "|              5.0|             3.6|              1.4|             0.2|     0|\n",
            "|              5.4|             3.9|              1.7|             0.4|     0|\n",
            "|              4.6|             3.4|              1.4|             0.3|     0|\n",
            "|              5.0|             3.4|              1.5|             0.2|     0|\n",
            "|              4.4|             2.9|              1.4|             0.2|     0|\n",
            "|              4.9|             3.1|              1.5|             0.1|     0|\n",
            "|              5.4|             3.7|              1.5|             0.2|     0|\n",
            "|              4.8|             3.4|              1.6|             0.2|     0|\n",
            "|              4.8|             3.0|              1.4|             0.1|     0|\n",
            "|              4.3|             3.0|              1.1|             0.1|     0|\n",
            "|              5.8|             4.0|              1.2|             0.2|     0|\n",
            "|              5.7|             4.4|              1.5|             0.4|     0|\n",
            "|              5.4|             3.9|              1.3|             0.4|     0|\n",
            "|              5.1|             3.5|              1.4|             0.3|     0|\n",
            "|              5.7|             3.8|              1.7|             0.3|     0|\n",
            "|              5.1|             3.8|              1.5|             0.3|     0|\n",
            "+-----------------+----------------+-----------------+----------------+------+\n",
            "only showing top 20 rows\n",
            "\n"
          ]
        }
      ]
    },
    {
      "cell_type": "code",
      "source": [
        "iris.printSchema()"
      ],
      "metadata": {
        "colab": {
          "base_uri": "https://localhost:8080/"
        },
        "outputId": "16f04de8-ce2f-40a8-8f8d-eb24cc92430d",
        "id": "gFDhxcnB6glv"
      },
      "execution_count": 7,
      "outputs": [
        {
          "output_type": "stream",
          "name": "stdout",
          "text": [
            "root\n",
            " |-- sepal length (cm): double (nullable = true)\n",
            " |-- sepal width (cm): double (nullable = true)\n",
            " |-- petal length (cm): double (nullable = true)\n",
            " |-- petal width (cm): double (nullable = true)\n",
            " |-- target: long (nullable = true)\n",
            "\n"
          ]
        }
      ]
    },
    {
      "cell_type": "code",
      "source": [
        "iris.columns"
      ],
      "metadata": {
        "colab": {
          "base_uri": "https://localhost:8080/"
        },
        "outputId": "10dc00fd-51dc-4814-dda5-07f2f43811a5",
        "id": "9TorzEMY6glw"
      },
      "execution_count": 8,
      "outputs": [
        {
          "output_type": "execute_result",
          "data": {
            "text/plain": [
              "['sepal length (cm)',\n",
              " 'sepal width (cm)',\n",
              " 'petal length (cm)',\n",
              " 'petal width (cm)',\n",
              " 'target']"
            ]
          },
          "metadata": {},
          "execution_count": 8
        }
      ]
    },
    {
      "cell_type": "code",
      "source": [
        "from pyspark.ml.feature import VectorAssembler "
      ],
      "metadata": {
        "id": "wZjuNOGL6glw"
      },
      "execution_count": 9,
      "outputs": []
    },
    {
      "cell_type": "code",
      "source": [
        "featureassembler= VectorAssembler(inputCols=['sepal length (cm)',\n",
        " 'sepal width (cm)',\n",
        " 'petal length (cm)',\n",
        " 'petal width (cm)'], outputCol='Features')"
      ],
      "metadata": {
        "id": "ooSm4UaF6glw"
      },
      "execution_count": 10,
      "outputs": []
    },
    {
      "cell_type": "code",
      "source": [
        "output = featureassembler.transform(iris)"
      ],
      "metadata": {
        "id": "jJt4WucO6glw"
      },
      "execution_count": 11,
      "outputs": []
    },
    {
      "cell_type": "code",
      "source": [
        "output.show()"
      ],
      "metadata": {
        "colab": {
          "base_uri": "https://localhost:8080/"
        },
        "outputId": "ffb8ef40-6426-4113-a492-b356e5b65618",
        "id": "jY_eaYl_6glw"
      },
      "execution_count": 12,
      "outputs": [
        {
          "output_type": "stream",
          "name": "stdout",
          "text": [
            "+-----------------+----------------+-----------------+----------------+------+-----------------+\n",
            "|sepal length (cm)|sepal width (cm)|petal length (cm)|petal width (cm)|target|         Features|\n",
            "+-----------------+----------------+-----------------+----------------+------+-----------------+\n",
            "|              5.1|             3.5|              1.4|             0.2|     0|[5.1,3.5,1.4,0.2]|\n",
            "|              4.9|             3.0|              1.4|             0.2|     0|[4.9,3.0,1.4,0.2]|\n",
            "|              4.7|             3.2|              1.3|             0.2|     0|[4.7,3.2,1.3,0.2]|\n",
            "|              4.6|             3.1|              1.5|             0.2|     0|[4.6,3.1,1.5,0.2]|\n",
            "|              5.0|             3.6|              1.4|             0.2|     0|[5.0,3.6,1.4,0.2]|\n",
            "|              5.4|             3.9|              1.7|             0.4|     0|[5.4,3.9,1.7,0.4]|\n",
            "|              4.6|             3.4|              1.4|             0.3|     0|[4.6,3.4,1.4,0.3]|\n",
            "|              5.0|             3.4|              1.5|             0.2|     0|[5.0,3.4,1.5,0.2]|\n",
            "|              4.4|             2.9|              1.4|             0.2|     0|[4.4,2.9,1.4,0.2]|\n",
            "|              4.9|             3.1|              1.5|             0.1|     0|[4.9,3.1,1.5,0.1]|\n",
            "|              5.4|             3.7|              1.5|             0.2|     0|[5.4,3.7,1.5,0.2]|\n",
            "|              4.8|             3.4|              1.6|             0.2|     0|[4.8,3.4,1.6,0.2]|\n",
            "|              4.8|             3.0|              1.4|             0.1|     0|[4.8,3.0,1.4,0.1]|\n",
            "|              4.3|             3.0|              1.1|             0.1|     0|[4.3,3.0,1.1,0.1]|\n",
            "|              5.8|             4.0|              1.2|             0.2|     0|[5.8,4.0,1.2,0.2]|\n",
            "|              5.7|             4.4|              1.5|             0.4|     0|[5.7,4.4,1.5,0.4]|\n",
            "|              5.4|             3.9|              1.3|             0.4|     0|[5.4,3.9,1.3,0.4]|\n",
            "|              5.1|             3.5|              1.4|             0.3|     0|[5.1,3.5,1.4,0.3]|\n",
            "|              5.7|             3.8|              1.7|             0.3|     0|[5.7,3.8,1.7,0.3]|\n",
            "|              5.1|             3.8|              1.5|             0.3|     0|[5.1,3.8,1.5,0.3]|\n",
            "+-----------------+----------------+-----------------+----------------+------+-----------------+\n",
            "only showing top 20 rows\n",
            "\n"
          ]
        }
      ]
    },
    {
      "cell_type": "code",
      "source": [
        "modeldata=output.select('Features','target')"
      ],
      "metadata": {
        "id": "08O1r4kX6glx"
      },
      "execution_count": 13,
      "outputs": []
    },
    {
      "cell_type": "code",
      "source": [
        "modeldata.show()"
      ],
      "metadata": {
        "colab": {
          "base_uri": "https://localhost:8080/"
        },
        "outputId": "6f5f5cd5-b237-4119-fe60-e114a9f7c664",
        "id": "DyyYW9Ml6glx"
      },
      "execution_count": 14,
      "outputs": [
        {
          "output_type": "stream",
          "name": "stdout",
          "text": [
            "+-----------------+------+\n",
            "|         Features|target|\n",
            "+-----------------+------+\n",
            "|[5.1,3.5,1.4,0.2]|     0|\n",
            "|[4.9,3.0,1.4,0.2]|     0|\n",
            "|[4.7,3.2,1.3,0.2]|     0|\n",
            "|[4.6,3.1,1.5,0.2]|     0|\n",
            "|[5.0,3.6,1.4,0.2]|     0|\n",
            "|[5.4,3.9,1.7,0.4]|     0|\n",
            "|[4.6,3.4,1.4,0.3]|     0|\n",
            "|[5.0,3.4,1.5,0.2]|     0|\n",
            "|[4.4,2.9,1.4,0.2]|     0|\n",
            "|[4.9,3.1,1.5,0.1]|     0|\n",
            "|[5.4,3.7,1.5,0.2]|     0|\n",
            "|[4.8,3.4,1.6,0.2]|     0|\n",
            "|[4.8,3.0,1.4,0.1]|     0|\n",
            "|[4.3,3.0,1.1,0.1]|     0|\n",
            "|[5.8,4.0,1.2,0.2]|     0|\n",
            "|[5.7,4.4,1.5,0.4]|     0|\n",
            "|[5.4,3.9,1.3,0.4]|     0|\n",
            "|[5.1,3.5,1.4,0.3]|     0|\n",
            "|[5.7,3.8,1.7,0.3]|     0|\n",
            "|[5.1,3.8,1.5,0.3]|     0|\n",
            "+-----------------+------+\n",
            "only showing top 20 rows\n",
            "\n"
          ]
        }
      ]
    },
    {
      "cell_type": "code",
      "source": [
        "# split data\n",
        "train_data,test_data=modeldata.randomSplit([0.8,0.2])"
      ],
      "metadata": {
        "id": "-KbpnDWC6glx"
      },
      "execution_count": 15,
      "outputs": []
    },
    {
      "cell_type": "code",
      "source": [
        "train_data.show()"
      ],
      "metadata": {
        "colab": {
          "base_uri": "https://localhost:8080/"
        },
        "outputId": "2561f670-fd24-4861-aac9-c5a36ff26053",
        "id": "tZcfp4R26glx"
      },
      "execution_count": 16,
      "outputs": [
        {
          "output_type": "stream",
          "name": "stdout",
          "text": [
            "+-----------------+------+\n",
            "|         Features|target|\n",
            "+-----------------+------+\n",
            "|[4.3,3.0,1.1,0.1]|     0|\n",
            "|[4.4,2.9,1.4,0.2]|     0|\n",
            "|[4.4,3.2,1.3,0.2]|     0|\n",
            "|[4.5,2.3,1.3,0.3]|     0|\n",
            "|[4.6,3.1,1.5,0.2]|     0|\n",
            "|[4.6,3.2,1.4,0.2]|     0|\n",
            "|[4.6,3.4,1.4,0.3]|     0|\n",
            "|[4.6,3.6,1.0,0.2]|     0|\n",
            "|[4.7,3.2,1.3,0.2]|     0|\n",
            "|[4.7,3.2,1.6,0.2]|     0|\n",
            "|[4.8,3.0,1.4,0.1]|     0|\n",
            "|[4.8,3.0,1.4,0.3]|     0|\n",
            "|[4.8,3.1,1.6,0.2]|     0|\n",
            "|[4.8,3.4,1.6,0.2]|     0|\n",
            "|[4.8,3.4,1.9,0.2]|     0|\n",
            "|[4.9,2.4,3.3,1.0]|     1|\n",
            "|[4.9,3.0,1.4,0.2]|     0|\n",
            "|[4.9,3.1,1.5,0.1]|     0|\n",
            "|[4.9,3.1,1.5,0.2]|     0|\n",
            "|[5.0,2.0,3.5,1.0]|     1|\n",
            "+-----------------+------+\n",
            "only showing top 20 rows\n",
            "\n"
          ]
        }
      ]
    },
    {
      "cell_type": "code",
      "source": [
        "# Naive Bayes classification model\n",
        "from pyspark.ml.classification import NaiveBayes"
      ],
      "metadata": {
        "id": "u-RUxJVW6glx"
      },
      "execution_count": 17,
      "outputs": []
    },
    {
      "cell_type": "code",
      "source": [
        "nb = NaiveBayes(featuresCol='Features', labelCol='target')"
      ],
      "metadata": {
        "id": "aqAG3-Mc6glx"
      },
      "execution_count": 18,
      "outputs": []
    },
    {
      "cell_type": "code",
      "source": [
        "nb=nb.fit(train_data)"
      ],
      "metadata": {
        "id": "b5MoY_w46gly"
      },
      "execution_count": 19,
      "outputs": []
    },
    {
      "cell_type": "code",
      "source": [
        "# prediction\n",
        "y_pred = nb.transform(test_data)"
      ],
      "metadata": {
        "id": "yyk6Ost36gly"
      },
      "execution_count": 20,
      "outputs": []
    },
    {
      "cell_type": "code",
      "source": [
        "y_pred.show()"
      ],
      "metadata": {
        "colab": {
          "base_uri": "https://localhost:8080/"
        },
        "outputId": "8a0a9094-0a06-478d-ea49-7b5769563039",
        "id": "TLNLJhI16gly"
      },
      "execution_count": 21,
      "outputs": [
        {
          "output_type": "stream",
          "name": "stdout",
          "text": [
            "+-----------------+------+--------------------+--------------------+----------+\n",
            "|         Features|target|       rawPrediction|         probability|prediction|\n",
            "+-----------------+------+--------------------+--------------------+----------+\n",
            "|[4.4,3.0,1.3,0.2]|     0|[-10.667182004924...|[0.69476539008992...|       0.0|\n",
            "|[4.9,3.6,1.4,0.1]|     0|[-11.502866359636...|[0.79144630259459...|       0.0|\n",
            "|[5.0,3.0,1.6,0.2]|     0|[-11.673320174792...|[0.67241320866882...|       0.0|\n",
            "|[5.1,3.8,1.6,0.2]|     0|[-12.613302399393...|[0.76928083853034...|       0.0|\n",
            "|[5.1,3.8,1.9,0.4]|     0|[-13.922393396105...|[0.66983601704300...|       0.0|\n",
            "|[5.4,3.4,1.5,0.4]|     0|[-12.926699174826...|[0.69740434005996...|       0.0|\n",
            "|[5.4,3.9,1.7,0.4]|     0|[-13.856847555100...|[0.72625925672382...|       0.0|\n",
            "|[5.5,3.5,1.3,0.2]|     0|[-11.990677410736...|[0.79165725716322...|       0.0|\n",
            "|[5.6,2.5,3.9,1.1]|     1|[-19.284957684706...|[0.08106806236858...|       1.0|\n",
            "|[6.1,2.9,4.7,1.4]|     1|[-22.715062189345...|[0.04272586724106...|       1.0|\n",
            "|[6.2,2.2,4.5,1.5]|     1|[-22.002891311221...|[0.02943410856001...|       1.0|\n",
            "|[6.3,2.5,4.9,1.5]|     1|[-23.173716850924...|[0.02662584841352...|       1.0|\n",
            "|[6.4,3.2,4.5,1.5]|     1|[-23.231074382245...|[0.05447044997221...|       1.0|\n",
            "|[6.5,2.8,4.6,1.5]|     1|[-23.060992466385...|[0.04116641064967...|       1.0|\n",
            "|[6.6,2.9,4.6,1.3]|     1|[-22.511967934087...|[0.05794133209088...|       1.0|\n",
            "|[5.5,2.4,3.7,1.0]|     1|[-18.354092261675...|[0.09817436265659...|       1.0|\n",
            "|[5.5,2.4,3.8,1.1]|     1|[-18.911888452083...|[0.08070934341534...|       1.0|\n",
            "|[5.8,2.7,5.1,1.9]|     2|[-24.880462905007...|[0.01339293689624...|       2.0|\n",
            "|[6.0,2.9,4.5,1.5]|     1|[-22.621422145036...|[0.04237479972657...|       1.0|\n",
            "|[6.3,2.3,4.4,1.3]|     1|[-21.260368163027...|[0.04484784708266...|       1.0|\n",
            "+-----------------+------+--------------------+--------------------+----------+\n",
            "only showing top 20 rows\n",
            "\n"
          ]
        }
      ]
    },
    {
      "cell_type": "code",
      "source": [
        "# confusion matrix\n",
        "y_pred.groupBy('target', 'prediction').count().show()"
      ],
      "metadata": {
        "colab": {
          "base_uri": "https://localhost:8080/"
        },
        "id": "aP0v4QDgrP8Q",
        "outputId": "d72055dd-e377-4a28-9703-81dd49b3fb58"
      },
      "execution_count": 22,
      "outputs": [
        {
          "output_type": "stream",
          "name": "stdout",
          "text": [
            "+------+----------+-----+\n",
            "|target|prediction|count|\n",
            "+------+----------+-----+\n",
            "|     0|       0.0|    8|\n",
            "|     1|       1.0|   11|\n",
            "|     2|       2.0|    9|\n",
            "|     2|       1.0|    3|\n",
            "+------+----------+-----+\n",
            "\n"
          ]
        }
      ]
    },
    {
      "cell_type": "code",
      "source": [
        "from sklearn.metrics import confusion_matrix\n",
        "pred=y_pred.select(\"prediction\").collect()\n",
        "orig=y_pred.select(\"target\").collect()\n",
        "print(confusion_matrix(orig, pred))"
      ],
      "metadata": {
        "colab": {
          "base_uri": "https://localhost:8080/"
        },
        "id": "57T0b7gOw_t9",
        "outputId": "d53df501-f499-4b63-90b0-b5b62632fbdb"
      },
      "execution_count": 23,
      "outputs": [
        {
          "output_type": "stream",
          "name": "stdout",
          "text": [
            "[[ 8  0  0]\n",
            " [ 0 11  0]\n",
            " [ 0  3  9]]\n"
          ]
        }
      ]
    },
    {
      "cell_type": "markdown",
      "source": [
        "(f1|accuracy|weightedPrecision|weightedRecall|weightedTruePositiveRate| weightedFalsePositiveRate|weightedFMeasure|truePositiveRateByLabel| falsePositiveRateByLabel|precisionByLabel|recallByLabel|fMeasureByLabel| logLoss|hammingLoss)"
      ],
      "metadata": {
        "id": "UBMExg8BDIi2"
      }
    },
    {
      "cell_type": "code",
      "source": [
        "# evaluation\n",
        "from pyspark.ml.evaluation import MulticlassClassificationEvaluator"
      ],
      "metadata": {
        "id": "1z9f4RbN_2NU"
      },
      "execution_count": 24,
      "outputs": []
    },
    {
      "cell_type": "code",
      "source": [
        "evaluator = MulticlassClassificationEvaluator(\n",
        "    labelCol='target', predictionCol='prediction')"
      ],
      "metadata": {
        "id": "9keKjBLvxq_c"
      },
      "execution_count": 25,
      "outputs": []
    },
    {
      "cell_type": "code",
      "source": [
        "accuracy = evaluator.evaluate(y_pred)\n",
        "accuracy"
      ],
      "metadata": {
        "colab": {
          "base_uri": "https://localhost:8080/"
        },
        "id": "HNbJEY7A_3NG",
        "outputId": "8301cde4-0a56-4971-8efd-1488d87fb73b"
      },
      "execution_count": 26,
      "outputs": [
        {
          "output_type": "execute_result",
          "data": {
            "text/plain": [
              "0.9021198156682027"
            ]
          },
          "metadata": {},
          "execution_count": 26
        }
      ]
    },
    {
      "cell_type": "code",
      "source": [
        "# close connection to spark\n",
        "spark.stop()"
      ],
      "metadata": {
        "id": "T5fn3z4r6gly"
      },
      "execution_count": 27,
      "outputs": []
    }
  ]
}